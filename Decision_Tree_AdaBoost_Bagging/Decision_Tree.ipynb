{
  "cells": [
    {
      "cell_type": "code",
      "execution_count": 1,
      "metadata": {
        "id": "U9JH_uj7O4gK"
      },
      "outputs": [],
      "source": [
        "import numpy as np\n",
        "import pandas as pd"
      ]
    },
    {
      "attachments": {},
      "cell_type": "markdown",
      "metadata": {
        "id": "Glwg-4c4dvOL"
      },
      "source": [
        "# Decision Tree"
      ]
    },
    {
      "cell_type": "code",
      "execution_count": 2,
      "metadata": {
        "id": "qIUAhNQc5vAj"
      },
      "outputs": [],
      "source": [
        "def check_purity(data):\n",
        "    \n",
        "    label_column = data[:, -1]\n",
        "    unique_classes = np.unique(label_column)\n",
        "\n",
        "    if len(unique_classes) == 1:\n",
        "        return True\n",
        "    else:\n",
        "        return False\n",
        "\n",
        "    \n",
        "def create_leaf(data, ml_task):\n",
        "    \n",
        "    label_column = data[:, -1]\n",
        "    if ml_task == \"regression\":\n",
        "        leaf = np.mean(label_column)\n",
        "        \n",
        "      \n",
        "    else:\n",
        "        unique_classes, counts_unique_classes = np.unique(label_column, return_counts=True)\n",
        "        index = counts_unique_classes.argmax()\n",
        "        leaf = unique_classes[index]\n",
        "    \n",
        "    return leaf\n",
        "\n",
        "def get_potential_splits(data):\n",
        "    \n",
        "    potential_splits = {}\n",
        "    _, n_columns = data.shape\n",
        "    for column_index in range(n_columns - 1): # excluding the last column which is the label\n",
        "        values = data[:, column_index]\n",
        "        unique_values = np.unique(values)\n",
        "        \n",
        "        unique_values = np.sort(unique_values)\n",
        "        arr=[]\n",
        "        for i in range(len(unique_values)-1):\n",
        "            arr.append((unique_values[i] + unique_values[i+1])/2)\n",
        "        unique_values = arr\n",
        "        \n",
        "        \n",
        "        \n",
        "        potential_splits[column_index] = unique_values\n",
        "    \n",
        "    return potential_splits\n",
        "\n",
        "\n",
        "def calculate_entropy(data):\n",
        "    \n",
        "    label_column = data[:, -1]\n",
        "    _, counts = np.unique(label_column, return_counts=True)\n",
        "\n",
        "    probabilities = counts / counts.sum()\n",
        "    entropy = sum(probabilities * -np.log2(probabilities))\n",
        "     \n",
        "    return entropy\n",
        "\n",
        "\n",
        "def calculate_mse(data):\n",
        "    actual_values = data[:, -1]\n",
        "    if len(actual_values) == 0:   # empty data\n",
        "        mse = 0\n",
        "        \n",
        "    else:\n",
        "        prediction = np.mean(actual_values)\n",
        "        mse = np.mean((actual_values - prediction) **2)\n",
        "    \n",
        "    return mse\n",
        "\n",
        "\n",
        "def calculate_overall_metric(data_below, data_above, metric_function):\n",
        "    \n",
        "    n = len(data_below) + len(data_above)\n",
        "    p_data_below = len(data_below) / n\n",
        "    p_data_above = len(data_above) / n\n",
        "\n",
        "    overall_metric =  (p_data_below * metric_function(data_below) \n",
        "                     + p_data_above * metric_function(data_above))\n",
        "    \n",
        "    return overall_metric\n",
        "\n",
        "\n",
        "def determine_best_split(data, potential_splits, ml_task):\n",
        "    \n",
        "    first_iteration = True\n",
        "    for column_index in potential_splits:\n",
        "        for value in potential_splits[column_index]:\n",
        "            data_below, data_above = split_data(data, split_column=column_index, split_value=value)\n",
        "            \n",
        "            if ml_task == \"regression\":\n",
        "                current_overall_metric = calculate_overall_metric(data_below, data_above, metric_function=calculate_mse)\n",
        "            \n",
        "            # classification\n",
        "            else:\n",
        "                current_overall_metric = calculate_overall_metric(data_below, data_above, metric_function=calculate_entropy)\n",
        "\n",
        "            if first_iteration or current_overall_metric <= best_overall_metric:\n",
        "                first_iteration = False\n",
        "                \n",
        "                best_overall_metric = current_overall_metric\n",
        "                best_split_column = column_index\n",
        "                best_split_value = value\n",
        "    \n",
        "    return best_split_column, best_split_value\n",
        "\n",
        "\n",
        "def split_data(data, split_column, split_value):\n",
        "    \n",
        "    split_column_values = data[:, split_column]\n",
        "\n",
        "    type_of_feature = FEATURE_TYPES[split_column]\n",
        "    if type_of_feature == \"continuous\":\n",
        "        data_below = data[split_column_values <= split_value]\n",
        "        data_above = data[split_column_values >  split_value]\n",
        "    \n",
        "    else:\n",
        "        data_below = data[split_column_values == split_value]\n",
        "        data_above = data[split_column_values != split_value]\n",
        "    \n",
        "    return data_below, data_above\n",
        "\n",
        "\n",
        "def determine_type_of_feature(df):\n",
        "    \n",
        "    feature_types = []\n",
        "    n_unique_values_treshold = 15\n",
        "    for feature in df.columns:\n",
        "        if feature != \"g\":\n",
        "            unique_values = df[feature].unique()\n",
        "            example_value = unique_values[0]\n",
        "\n",
        "            if (isinstance(example_value, str)) or (len(unique_values) <= n_unique_values_treshold):\n",
        "                feature_types.append(\"categorical\")\n",
        "            else:\n",
        "                feature_types.append(\"continuous\")\n",
        "    \n",
        "    return feature_types\n",
        "\n",
        "\n",
        "def decision_tree_algorithm(df, ml_task, counter=0, min_samples=2, max_depth=5):\n",
        "    \n",
        "    if counter == 0:\n",
        "        global COLUMN_HEADERS, FEATURE_TYPES\n",
        "        COLUMN_HEADERS = df.columns\n",
        "        FEATURE_TYPES = determine_type_of_feature(df)\n",
        "        data = df.values\n",
        "    else:\n",
        "        data = df           \n",
        "    \n",
        "    \n",
        "    if (check_purity(data)) or (len(data) < min_samples) or (counter == max_depth):\n",
        "        leaf = create_leaf(data, ml_task)\n",
        "        return leaf\n",
        "\n",
        "    \n",
        "    else:    \n",
        "        counter += 1\n",
        "\n",
        "         \n",
        "        potential_splits = get_potential_splits(data)\n",
        "        split_column, split_value = determine_best_split(data, potential_splits, ml_task)\n",
        "        data_below, data_above = split_data(data, split_column, split_value)\n",
        "        \n",
        "        \n",
        "        if len(data_below) == 0 or len(data_above) == 0:\n",
        "            leaf = create_leaf(data, ml_task)\n",
        "            return leaf\n",
        "        \n",
        "        \n",
        "        feature_name = COLUMN_HEADERS[split_column]\n",
        "        type_of_feature = FEATURE_TYPES[split_column]\n",
        "        if type_of_feature == \"continuous\":\n",
        "            question = \"{} <= {}\".format(feature_name, split_value)\n",
        "            \n",
        "        \n",
        "        else:\n",
        "            question = \"{} = {}\".format(feature_name, split_value)\n",
        "        \n",
        "        \n",
        "        sub_tree = {question: []}\n",
        "        \n",
        "        \n",
        "        yes_answer = decision_tree_algorithm(data_below, ml_task, counter, min_samples, max_depth)\n",
        "        no_answer = decision_tree_algorithm(data_above, ml_task, counter, min_samples, max_depth)\n",
        "        \n",
        "        \n",
        "        if yes_answer == no_answer:\n",
        "            sub_tree = yes_answer\n",
        "        else:\n",
        "            sub_tree[question].append(yes_answer)\n",
        "            sub_tree[question].append(no_answer)\n",
        "        \n",
        "        return sub_tree\n",
        "\n",
        "\n",
        "\n",
        "def predict_example(example, tree):\n",
        "    \n",
        "    \n",
        "    if not isinstance(tree, dict):\n",
        "        return tree\n",
        "    \n",
        "    question = list(tree.keys())[0]\n",
        "    feature_name, comparison_operator, value = question.split(\" \")\n",
        "\n",
        "    \n",
        "    if comparison_operator == \"<=\":\n",
        "        if example[feature_name] <= float(value):\n",
        "            answer = tree[question][0]\n",
        "        else:\n",
        "            answer = tree[question][1]\n",
        "    \n",
        "    \n",
        "    else:\n",
        "        if str(example[feature_name]) == value:\n",
        "            answer = tree[question][0]\n",
        "        else:\n",
        "            answer = tree[question][1]\n",
        "\n",
        "    \n",
        "    if not isinstance(answer, dict):\n",
        "        return answer\n",
        "    \n",
        "    \n",
        "    else:\n",
        "        residual_tree = answer\n",
        "        return predict_example(example, residual_tree)\n",
        "\n",
        "    \n",
        "\n",
        "def make_predictions(df, tree):\n",
        "    \n",
        "    if len(df) != 0:\n",
        "        predictions = df.apply(predict_example, args=(tree,), axis=1)\n",
        "    else:\n",
        "        predictions = pd.Series()\n",
        "        \n",
        "    return predictions\n",
        "\n",
        "\n",
        "def calculate_accuracy(df, tree):\n",
        "    predictions = make_predictions(df, tree)\n",
        "    predictions_correct = predictions == df.g\n",
        "    accuracy = predictions_correct.mean()\n",
        "    \n",
        "    return accuracy"
      ]
    },
    {
      "cell_type": "code",
      "execution_count": 3,
      "metadata": {
        "id": "rxc35HhznYPf"
      },
      "outputs": [],
      "source": [
        "df = pd.read_csv(\"dataset.csv\")"
      ]
    },
    {
      "cell_type": "code",
      "execution_count": 4,
      "metadata": {
        "id": "WlvSV3i_guoB"
      },
      "outputs": [],
      "source": [
        "training_accuracy = []\n",
        "\n",
        "for i in range (1, 12):\n",
        "  tree = decision_tree_algorithm(df.iloc[:90, :], \"classification\", counter=0, min_samples=2, max_depth=i)\n",
        "  act = calculate_accuracy(df.iloc[:90, :], tree)\n",
        "  training_accuracy.append(act)"
      ]
    },
    {
      "cell_type": "code",
      "execution_count": 5,
      "metadata": {
        "id": "TFwMtIKjPFxh"
      },
      "outputs": [
        {
          "data": {
            "text/plain": [
              "[0.6777777777777778,\n",
              " 0.7666666666666667,\n",
              " 0.7666666666666667,\n",
              " 0.8111111111111111,\n",
              " 0.8555555555555555,\n",
              " 0.8777777777777778,\n",
              " 0.9222222222222223,\n",
              " 0.9555555555555556,\n",
              " 0.9777777777777777,\n",
              " 0.9777777777777777,\n",
              " 1.0]"
            ]
          },
          "execution_count": 5,
          "metadata": {},
          "output_type": "execute_result"
        }
      ],
      "source": [
        "training_accuracy"
      ]
    },
    {
      "cell_type": "code",
      "execution_count": 6,
      "metadata": {
        "id": "f6G6QJvVh83E"
      },
      "outputs": [],
      "source": [
        "testing_accuracy = []\n",
        "\n",
        "for i in range (1, 12):\n",
        "  tree = decision_tree_algorithm(df.iloc[:90, :], \"classification\", counter=0, min_samples=2, max_depth=i)\n",
        "  act = calculate_accuracy(df.iloc[90:, :], tree)\n",
        "  testing_accuracy.append(act)"
      ]
    },
    {
      "cell_type": "code",
      "execution_count": 7,
      "metadata": {
        "id": "asRnra4aicGf"
      },
      "outputs": [
        {
          "data": {
            "text/plain": [
              "[0.5666666666666667,\n",
              " 0.7666666666666667,\n",
              " 0.7666666666666667,\n",
              " 0.7333333333333333,\n",
              " 0.7333333333333333,\n",
              " 0.6,\n",
              " 0.6,\n",
              " 0.5333333333333333,\n",
              " 0.5333333333333333,\n",
              " 0.5333333333333333,\n",
              " 0.5666666666666667]"
            ]
          },
          "execution_count": 7,
          "metadata": {},
          "output_type": "execute_result"
        }
      ],
      "source": [
        "testing_accuracy"
      ]
    },
    {
      "cell_type": "code",
      "execution_count": 8,
      "metadata": {
        "colab": {
          "base_uri": "https://localhost:8080/",
          "height": 280
        },
        "id": "Hj7LF6HJhvvF",
        "outputId": "82d07581-4a52-41af-85d4-06662ffed078"
      },
      "outputs": [
        {
          "data": {
            "image/png": "[encoded data removed]",
            "text/plain": [
              "<Figure size 640x480 with 1 Axes>"
            ]
          },
          "metadata": {},
          "output_type": "display_data"
        }
      ],
      "source": [
        "import matplotlib.pyplot as plt\n",
        " \n",
        "max_depth_list = [i for i in range(1,12)]\n",
        "x = np.arange(len(max_depth_list)) + 1 \n",
        "plt.plot(x, training_accuracy)\n",
        "plt.plot(x, testing_accuracy, label='Accuracy vs max_depth')\n",
        "plt.xlabel('max_depth') \n",
        "plt.ylabel('accuracy') \n",
        "plt.legend() \n",
        "plt.show() "
      ]
    },
    {
      "cell_type": "markdown",
      "metadata": {
        "id": "ZK1dp2oovxlp"
      },
      "source": [
        "##*The result from the above graph indicates that overfitting occurs from depth = 4 because there onwards the accuracy starts to decrease for the testing data against the increment in accuracy for the training data indicating that the model has adapted more to the training data such that it fails to evaluate unknown data resulting in a decrease of accuracy*"
      ]
    },
    {
      "attachments": {},
      "cell_type": "markdown",
      "metadata": {
        "id": "TVRfSPcBRqXf"
      },
      "source": [
        "# BAGGING"
      ]
    },
    {
      "cell_type": "code",
      "execution_count": 9,
      "metadata": {
        "id": "5Xfn5JqzSt6R"
      },
      "outputs": [],
      "source": [
        "df_train = df.iloc[:90, :]\n",
        "df_test = df.iloc[90:, :]\n",
        "actual = df.iloc[90:, -1].values"
      ]
    },
    {
      "cell_type": "code",
      "execution_count": 10,
      "metadata": {
        "id": "qYufYbHjYNRu"
      },
      "outputs": [],
      "source": [
        "def accuracy_metric(actual, predicted):\n",
        "        correct = 0\n",
        "        for i in range(len(actual)):\n",
        "            if actual[i] == predicted[i]:\n",
        "                correct += 1\n",
        "        return correct / float(len(actual)) * 100.0"
      ]
    },
    {
      "cell_type": "code",
      "execution_count": 11,
      "metadata": {
        "id": "W73gMphIqO6v"
      },
      "outputs": [],
      "source": [
        "bagging_iters=[10, 50, 100]\n",
        "accuracy_of_iter=[]\n",
        "for bag in bagging_iters:\n",
        "\n",
        "    predictions=[]\n",
        "    for i in range(bag):\n",
        "        indexes = np.random.randint(low=0, high=df_train.shape[0], size=df_train.shape[0])\n",
        "        dataset = df_train.iloc[indexes]\n",
        "        tree = decision_tree_algorithm(dataset, \"classification\", counter=0, min_samples=1, max_depth=6)\n",
        "        pred = make_predictions(df.iloc[90:,:-1], tree)\n",
        "        predictions.append(pred.tolist())\n",
        "\n",
        "    final_pred = []\n",
        "\n",
        "    for j in range(len(predictions[0])): #0,30\n",
        "        count_M=0\n",
        "        count_W=0\n",
        "        for i in range(len(predictions)): #0,1,2\n",
        "            if predictions[i][j] == ' M ':\n",
        "                count_M = count_M + 1\n",
        "            else:\n",
        "                count_W = count_W + 1\n",
        "\n",
        "        if count_M >= count_W:\n",
        "            final_pred.append(\" M \")\n",
        "        else:\n",
        "            final_pred.append(\" W \")\n",
        "\n",
        "    ac = accuracy_metric(actual, final_pred)\n",
        "    accuracy_of_iter.append(ac)"
      ]
    },
    {
      "cell_type": "code",
      "execution_count": 12,
      "metadata": {
        "colab": {
          "base_uri": "https://localhost:8080/"
        },
        "id": "T-FWry3y88t2",
        "outputId": "ec618969-05f6-478a-eb35-4d1ae0e15ced"
      },
      "outputs": [
        {
          "data": {
            "text/plain": [
              "[66.66666666666666, 73.33333333333333, 73.33333333333333]"
            ]
          },
          "execution_count": 12,
          "metadata": {},
          "output_type": "execute_result"
        }
      ],
      "source": [
        "accuracy_of_iter"
      ]
    },
    {
      "attachments": {},
      "cell_type": "markdown",
      "metadata": {
        "id": "GRNGRxUJXznK"
      },
      "source": [
        "#### *From the above results of the three ensemble classifiers and comparing those with that of a single classifier with depth = 6 where we get the accuracy of 60%, we can infer that with the increase in bag size starting from the base size the accuracy keeps increasing with respect to that of the corresponding regular classifier (accuracy = 60%)*"
      ]
    },
    {
      "attachments": {},
      "cell_type": "markdown",
      "metadata": {
        "id": "z5_eLQxK3CXX"
      },
      "source": [
        "# ADABOOST"
      ]
    },
    {
      "cell_type": "code",
      "execution_count": 13,
      "metadata": {
        "id": "SXlHSsn2Mnvu"
      },
      "outputs": [],
      "source": [
        "df['g'] = np.where(df['g'] == ' M ', 0, 1)"
      ]
    },
    {
      "cell_type": "code",
      "execution_count": 14,
      "metadata": {
        "id": "mMJmcL-IEnAn"
      },
      "outputs": [],
      "source": [
        "X_train = df.iloc[:90, :-1].values\n",
        "X_test = df.iloc[90:, :-1].values\n",
        "y_train = df.iloc[:90, -1].values\n",
        "y_test = df.iloc[90:, -1].values"
      ]
    },
    {
      "cell_type": "code",
      "execution_count": 15,
      "metadata": {
        "id": "EE2hLzdw3Baj"
      },
      "outputs": [],
      "source": [
        "class AdaBoost:\n",
        "    \n",
        "    def fit(self, X_train, y_train, T, stub_depth = 1):\n",
        "        self.y_train = y_train\n",
        "        self.X_train = X_train\n",
        "        self.N, self.D = X_train.shape\n",
        "        self.T = T\n",
        "        self.stub_depth = stub_depth\n",
        "        \n",
        "        ## Instantiate stuff\n",
        "        self.weights = np.repeat(1/self.N, self.N)\n",
        "        self.trees = []\n",
        "        self.alphas = []\n",
        "        self.yhats = np.empty((self.N, self.T))\n",
        "        self.yhat_t1 = []\n",
        "        \n",
        "        self.aa = []\n",
        "        self.ab = []\n",
        "\n",
        "        \n",
        "        for t in range(self.T):\n",
        "            \n",
        "            self.yhat_t = []\n",
        "            \n",
        "            self.T_t = decision_tree_algorithm(df_train, \"classification\", counter=0, min_samples=2, max_depth=5)\n",
        "            self.yhat_t1 = make_predictions(df_train, self.T_t).tolist()\n",
        "            for i in range (len(self.yhat_t1)):\n",
        "              if self.yhat_t1[i] == ' M ':\n",
        "                self.yhat_t.append(1)\n",
        "              else:\n",
        "                self.yhat_t.append(0)\n",
        "\n",
        "\n",
        "            # print(\"yhat_t\", self.yhat_t)\n",
        "            # print(\"length\", len(self.yhat_t))\n",
        "            # print(\"y_train\",self.y_train)\n",
        "            for i in range (len(y_train)):\n",
        "              if (self.yhat_t[i] != self.y_train[i]):\n",
        "                self.aa.append(1)\n",
        "              else:\n",
        "                self.aa.append(0)\n",
        "            # print(\"aa\", self.aa)\n",
        "            # print(\"weights\", self.weights)\n",
        "            for i in range(len(y_train)):\n",
        "              self.ab.append(self.aa[i]*self.weights[i])\n",
        "\n",
        "            # print(\"ab\", self.ab)\n",
        "            self.epsilon_t = sum(self.ab)/sum(self.weights) \n",
        "            # print(\"epsilon\", self.epsilon_t)\n",
        "\n",
        "            # self.epsilon_t = sum(self.weights*(self.yhat_t != self.y_train))/sum(self.weights)\n",
        "            self.alpha_t = np.log( (1-self.epsilon_t)/self.epsilon_t )\n",
        "            # print(\"alpha\", self.alpha_t)\n",
        "            self.weights = np.array([w*(1-self.epsilon_t)/self.epsilon_t if self.yhat_t[i] != self.y_train[i]\n",
        "                                    else w for i, w in enumerate(self.weights)])\n",
        "            # print(\"upd wts\", self.weights)\n",
        "            ## Append stuff\n",
        "            self.trees.append(self.T_t)\n",
        "            # print(\"trees\", self.trees)\n",
        "            # print(\"datatype\", type(self.trees))\n",
        "\n",
        "            self.alphas.append(self.alpha_t)\n",
        "            # print(\"alphas\", self.alphas)\n",
        "            # print(\"alphas type\", type(self.alphas))\n",
        "            self.yhats[:,t] = self.yhat_t \n",
        "            \n",
        "        self.yhat = np.sign(np.dot(self.yhats, self.alphas))\n",
        "        \n",
        "    def predict(self, X_test):\n",
        "        yhats = np.zeros(len(X_test))\n",
        "        for t, tree in enumerate(self.trees):\n",
        "            yhats_tree_list = []\n",
        "            yhats_tree = make_predictions(df_test, tree).tolist()\n",
        "            # print(\"yhats_tree\", yhats_tree)\n",
        "            for i in range (len(yhats_tree)):\n",
        "              if yhats_tree[i] == ' M ':\n",
        "                yhats_tree_list.append(1)\n",
        "              else:\n",
        "                yhats_tree_list.append(0)\n",
        "            # print(yhats_tree_list)\n",
        "            yhats += np.array(yhats_tree_list)*self.alphas[t]\n",
        "        # print(yhats)\n",
        "        # print(type(tree))\n",
        "        return np.sign(yhats)"
      ]
    },
    {
      "cell_type": "code",
      "execution_count": null,
      "metadata": {
        "id": "OAVKnmVd3S6d"
      },
      "outputs": [],
      "source": [
        "for i in [10, 25, 50]:\n",
        "    booster = AdaBoost()\n",
        "\n",
        "    booster.fit(X_train, y_train, T = i, stub_depth = 8)\n",
        "    yhat = booster.predict(X_test)\n",
        "    print(np.mean(yhat == y_test))"
      ]
    }
  ],
  "metadata": {
    "colab": {
      "collapsed_sections": [
        "ZK1dp2oovxlp"
      ],
      "name": "Copy of P2_DT_8341.ipynb",
      "provenance": []
    },
    "kernelspec": {
      "display_name": "Python 3",
      "language": "python",
      "name": "python3"
    },
    "language_info": {
      "codemirror_mode": {
        "name": "ipython",
        "version": 3
      },
      "file_extension": ".py",
      "mimetype": "text/x-python",
      "name": "python",
      "nbconvert_exporter": "python",
      "pygments_lexer": "ipython3",
      "version": "3.9.9"
    },
    "vscode": {
      "interpreter": {
        "hash": "6e692de43357d6e986329523fab310ff3d22003e71019b3bb2df97ba14573b0c"
      }
    }
  },
  "nbformat": 4,
  "nbformat_minor": 0
}
