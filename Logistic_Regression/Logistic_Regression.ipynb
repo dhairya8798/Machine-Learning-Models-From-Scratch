{
  "cells": [
    {
      "cell_type": "code",
      "execution_count": 1,
      "id": "12fa0fa3",
      "metadata": {
        "id": "12fa0fa3"
      },
      "outputs": [],
      "source": [
        "import numpy as np\n",
        "import math\n",
        "import pandas as pd"
      ]
    },
    {
      "cell_type": "code",
      "execution_count": 2,
      "id": "2dba6c74",
      "metadata": {
        "id": "2dba6c74"
      },
      "outputs": [],
      "source": [
        "learning_rate = 0.0001\n",
        "epoch_num = 10000"
      ]
    },
    {
      "cell_type": "code",
      "execution_count": 3,
      "id": "c0108eda",
      "metadata": {
        "id": "c0108eda"
      },
      "outputs": [],
      "source": [
        "# the logistic function\n",
        "def sigmoid(theta, input):\n",
        "    \n",
        "    h = np.dot(theta, input)\n",
        "    return 1 / (1 + math.exp(-h))\n",
        "\n",
        "def logistic_regression_fit(train_input, train_labels):\n",
        "    \n",
        "    misclassification_error = 0\n",
        "    print(\"Training\")\n",
        "    theta = np.random.uniform(low=-0.1, high=0.1, size=(train_input.shape[1]))\n",
        "\n",
        "    for epoch_i in range(epoch_num):\n",
        "\n",
        "        index = np.random.randint(0, train_input.shape[0])\n",
        "        y_hat = sigmoid(theta, train_input[index])\n",
        "        y = 1 if train_labels[index] == ' M ' else 0\n",
        "\n",
        "        if y_hat <= 0.5 and y == 1 or y_hat > 0.5 and y == 0:\n",
        "            misclassification_error += 1\n",
        "\n",
        "        theta += learning_rate * (y - y_hat) * train_input[index]\n",
        "\n",
        "        if (epoch_i + 1) % 100 == 0:\n",
        "            print(\"Avg Misclassification Error: {} on epoch {}\".format(misclassification_error / 100, epoch_i + 1))\n",
        "            if misclassification_error / 1000 <= 0.01:\n",
        "                break\n",
        "            misclassification_error = 0\n",
        "    print(\"End of Training\")\n",
        "    return theta\n",
        "\n"
      ]
    },
    {
      "cell_type": "code",
      "execution_count": 4,
      "id": "06679afe",
      "metadata": {
        "id": "06679afe"
      },
      "outputs": [],
      "source": [
        "df = pd.read_csv(\"train.csv\")\n",
        "df.columns = ['h', 'w', 'a', 'g']\n",
        "heights = df.h\n",
        "weights = df.w\n",
        "age = df.a\n",
        "gender = df.g"
      ]
    },
    {
      "cell_type": "code",
      "execution_count": 5,
      "id": "eefcae31",
      "metadata": {
        "colab": {
          "base_uri": "https://localhost:8080/"
        },
        "id": "eefcae31",
        "outputId": "cafb6d54-995c-41b9-aa77-90876adcabf0"
      },
      "outputs": [
        {
          "name": "stdout",
          "output_type": "stream",
          "text": [
            "Training\n",
            "Avg Misclassification Error: 0.4 on epoch 100\n",
            "Avg Misclassification Error: 0.34 on epoch 200\n",
            "Avg Misclassification Error: 0.37 on epoch 300\n",
            "Avg Misclassification Error: 0.28 on epoch 400\n",
            "Avg Misclassification Error: 0.32 on epoch 500\n",
            "Avg Misclassification Error: 0.26 on epoch 600\n",
            "Avg Misclassification Error: 0.22 on epoch 700\n",
            "Avg Misclassification Error: 0.32 on epoch 800\n",
            "Avg Misclassification Error: 0.24 on epoch 900\n",
            "Avg Misclassification Error: 0.22 on epoch 1000\n",
            "Avg Misclassification Error: 0.23 on epoch 1100\n",
            "Avg Misclassification Error: 0.29 on epoch 1200\n",
            "Avg Misclassification Error: 0.22 on epoch 1300\n",
            "Avg Misclassification Error: 0.16 on epoch 1400\n",
            "Avg Misclassification Error: 0.37 on epoch 1500\n",
            "Avg Misclassification Error: 0.24 on epoch 1600\n",
            "Avg Misclassification Error: 0.27 on epoch 1700\n",
            "Avg Misclassification Error: 0.23 on epoch 1800\n",
            "Avg Misclassification Error: 0.22 on epoch 1900\n",
            "Avg Misclassification Error: 0.27 on epoch 2000\n",
            "Avg Misclassification Error: 0.25 on epoch 2100\n",
            "Avg Misclassification Error: 0.3 on epoch 2200\n",
            "Avg Misclassification Error: 0.2 on epoch 2300\n",
            "Avg Misclassification Error: 0.27 on epoch 2400\n",
            "Avg Misclassification Error: 0.2 on epoch 2500\n",
            "Avg Misclassification Error: 0.3 on epoch 2600\n",
            "Avg Misclassification Error: 0.23 on epoch 2700\n",
            "Avg Misclassification Error: 0.26 on epoch 2800\n",
            "Avg Misclassification Error: 0.16 on epoch 2900\n",
            "Avg Misclassification Error: 0.08 on epoch 3000\n",
            "End of Training\n"
          ]
        }
      ],
      "source": [
        "train_input = np.asarray([heights, weights, age]).T\n",
        "train_labels = np.asarray(gender)\n",
        "theta = logistic_regression_fit(train_input, train_labels)"
      ]
    },
    {
      "cell_type": "code",
      "execution_count": 6,
      "id": "11f45766",
      "metadata": {
        "id": "11f45766"
      },
      "outputs": [],
      "source": [
        "df_test = pd.read_csv(\"test.csv\")\n",
        "df_list = df_test.values.tolist()"
      ]
    },
    {
      "cell_type": "code",
      "execution_count": 7,
      "id": "5e96f161",
      "metadata": {
        "id": "5e96f161"
      },
      "outputs": [],
      "source": [
        "def classification(sample):\n",
        "    y_hat = sigmoid(theta, sample)\n",
        "    pred_class = \" M \" if y_hat >= 0.5 else \" W \"\n",
        "    return pred_class"
      ]
    },
    {
      "cell_type": "code",
      "execution_count": 8,
      "id": "9f20ba50",
      "metadata": {
        "colab": {
          "base_uri": "https://localhost:8080/"
        },
        "id": "9f20ba50",
        "outputId": "29adac41-6134-42c8-eb1e-cec3704238c2"
      },
      "outputs": [
        {
          "name": "stdout",
          "output_type": "stream",
          "text": [
            "Testing\n",
            "Predicted class:  W \n",
            "Predicted class:  W \n",
            "Predicted class:  W \n",
            "Predicted class:  W \n"
          ]
        }
      ],
      "source": [
        "print(\"Testing\")\n",
        "for sample in df_list:\n",
        "    y_hat = sigmoid(theta, sample)\n",
        "    pred_class = \" M \" if y_hat >= 0.5 else \" W \"\n",
        "    print(\"Predicted class: {}\".format(pred_class))"
      ]
    },
    {
      "cell_type": "markdown",
      "id": "5f12c184",
      "metadata": {
        "id": "5f12c184"
      },
      "source": [
        "# Leave one out"
      ]
    },
    {
      "cell_type": "code",
      "execution_count": 9,
      "id": "c673988d",
      "metadata": {
        "id": "c673988d"
      },
      "outputs": [],
      "source": [
        "df_loo = pd.read_csv('leave_one_out.csv')\n",
        "df_loo.columns = ['h', 'w', 'a', 'g']\n",
        "heights = df_loo.h\n",
        "weights = df_loo.w\n",
        "age = df_loo.a\n",
        "gender = df_loo.g"
      ]
    },
    {
      "cell_type": "code",
      "execution_count": 10,
      "id": "1b91416f",
      "metadata": {
        "colab": {
          "base_uri": "https://localhost:8080/"
        },
        "id": "1b91416f",
        "outputId": "2b119f4d-d8c4-41ca-f8bc-6a2da17abf20"
      },
      "outputs": [
        {
          "name": "stdout",
          "output_type": "stream",
          "text": [
            "61/120 correct predictions using all features\n"
          ]
        }
      ],
      "source": [
        "count = 0\n",
        "    \n",
        "for index, test_sample in df_loo.iterrows():\n",
        "        \n",
        "    sample = test_sample.values[:3]\n",
        "    target = test_sample.values[3]\n",
        "    prediction = classification(sample)\n",
        "    df_loo.drop(index)\n",
        "    \n",
        "    if target == prediction:\n",
        "        count = count + 1\n",
        "        \n",
        "print(\"{}/{} correct predictions using all features\".format(count, df_loo.shape[0]))"
      ]
    },
    {
      "cell_type": "code",
      "execution_count": 11,
      "id": "nAo_M_VRQ9lM",
      "metadata": {
        "colab": {
          "base_uri": "https://localhost:8080/",
          "height": 131
        },
        "id": "nAo_M_VRQ9lM",
        "outputId": "53463a5d-e3ce-4a87-ef1a-f33980a84675"
      },
      "outputs": [],
      "source": [
        "# count = 0\n",
        "    \n",
        "# for index, test_sample in df_loo.iterrows():\n",
        "        \n",
        "#     sample = test_sample.values[:2]\n",
        "#     target = test_sample.values[3]\n",
        "#     prediction = classification(sample)\n",
        "#     df_loo.drop(index)\n",
        "    \n",
        "#     if target == prediction:\n",
        "#         count = count + 1\n",
        "        \n",
        "# print(\"{}/{} correct predictions using all features except age\".format(count, df_loo.shape[0]))"
      ]
    }
  ],
  "metadata": {
    "colab": {
      "collapsed_sections": [],
      "name": "8341_Log_Reg.ipynb",
      "provenance": []
    },
    "kernelspec": {
      "display_name": "Python 3",
      "language": "python",
      "name": "python3"
    },
    "language_info": {
      "codemirror_mode": {
        "name": "ipython",
        "version": 3
      },
      "file_extension": ".py",
      "mimetype": "text/x-python",
      "name": "python",
      "nbconvert_exporter": "python",
      "pygments_lexer": "ipython3",
      "version": "3.9.9"
    },
    "vscode": {
      "interpreter": {
        "hash": "6e692de43357d6e986329523fab310ff3d22003e71019b3bb2df97ba14573b0c"
      }
    }
  },
  "nbformat": 4,
  "nbformat_minor": 5
}
