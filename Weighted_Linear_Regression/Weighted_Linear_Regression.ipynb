{
  "cells": [
    {
      "cell_type": "code",
      "execution_count": 1,
      "metadata": {
        "id": "T3OCPxsK-AtN"
      },
      "outputs": [],
      "source": [
        "import pandas as pd\n",
        "import numpy as np\n",
        "import matplotlib.pyplot as plt\n",
        "import math"
      ]
    },
    {
      "cell_type": "code",
      "execution_count": 2,
      "metadata": {
        "id": "-jhBxF6LCn7f"
      },
      "outputs": [],
      "source": [
        "def readData(string):\n",
        "\tdf = pd.read_csv(string, sep=\",\", index_col=False)\n",
        "\tdf.columns = [\"x\", \"y\"]\n",
        "\tdata = np.array(df, dtype=float)\n",
        "\treturn data[:, :-1], data[:, -1], df"
      ]
    },
    {
      "cell_type": "code",
      "execution_count": 3,
      "metadata": {
        "id": "IXKgyzjcLUuY"
      },
      "outputs": [],
      "source": [
        "def wm(point, X, gamma): \n",
        "    \n",
        "  m = X.shape[0] \n",
        "    \n",
        "  w = np.mat(np.eye(m)) \n",
        "    \n",
        "  for i in range(m): \n",
        "        xi = X[i] \n",
        "        d = (-2 * gamma * gamma) \n",
        "        w[i, i] = np.exp(np.dot((xi-point), (xi-point).T)/d) \n",
        "        \n",
        "  return w"
      ]
    },
    {
      "cell_type": "code",
      "execution_count": 4,
      "metadata": {
        "id": "RF4lkXV7LUjd"
      },
      "outputs": [],
      "source": [
        "def predict(X, y, point, gamma = 0.156): \n",
        "    \n",
        "  m = X.shape[0] \n",
        "\n",
        "  X_ = np.append(X, np.ones(m).reshape(m,1), axis=1) \n",
        "   \n",
        "  point_ = np.array([point, 1], dtype=object) \n",
        "   \n",
        "  w = wm(point_, X_, gamma)\n",
        "  \n",
        "    \n",
        "  theta = np.linalg.pinv(X_.T*(w * X_))*(X_.T*(w * y)) \n",
        "    \n",
        "  pred = np.dot(point_, theta) \n",
        "    \n",
        "  return theta, pred"
      ]
    },
    {
      "cell_type": "code",
      "execution_count": 5,
      "metadata": {
        "id": "Xex77J0_MPUm"
      },
      "outputs": [],
      "source": [
        "def plot_predictions(X, y, gamma, nval):\n",
        "  X_test, y_test, df_test = readData(\"test.csv\")\n",
        "    \n",
        "  preds = [] \n",
        "    \n",
        "  for point in X_test: \n",
        "    theta, pred = predict(X, y, point, gamma) \n",
        "    preds.append(pred)\n",
        "        \n",
        "  X_test = np.array(X_test).reshape(nval,1)\n",
        "  preds = np.array(preds).reshape(nval,1)\n",
        "  print(preds)\n",
        "    \n",
        "  plt.plot(X, y, 'b.')\n",
        "  plt.plot(X_test, preds, 'r.')\n",
        "  plt.show()"
      ]
    },
    {
      "cell_type": "code",
      "execution_count": 6,
      "metadata": {
        "id": "eLgspv3D4Q5U"
      },
      "outputs": [],
      "source": [
        "def error(X_test, y_test, gamma):\n",
        "    preds = []\n",
        "    nval = X_test.shape[0]\n",
        "    for x in X_test:\n",
        "        theta, pred = predict(X, y, x, gamma)\n",
        "        preds.append(pred)\n",
        "    preds = np.array(preds).reshape(nval,1)\n",
        "    \n",
        "    MSE = np.square(np.subtract(y_test,preds)).mean() \n",
        " \n",
        "    RMSE = math.sqrt(MSE)\n",
        "    print(\"Root Mean Square Error:\\n\")\n",
        "    print(RMSE)"
      ]
    },
    {
      "cell_type": "code",
      "execution_count": 7,
      "metadata": {
        "id": "3r59GYpgLUx1"
      },
      "outputs": [],
      "source": [
        "X, y, df = readData('train.csv')\n",
        "y = y.reshape(y.shape[0], 1)"
      ]
    },
    {
      "cell_type": "code",
      "execution_count": 8,
      "metadata": {
        "id": "Z0xqz52ONlnE"
      },
      "outputs": [],
      "source": [
        "X_test, y_test, df_test = readData(\"test.csv\")"
      ]
    },
    {
      "cell_type": "code",
      "execution_count": 9,
      "metadata": {
        "colab": {
          "base_uri": "https://localhost:8080/"
        },
        "id": "7s0qrKsC4Q5U",
        "outputId": "b065049b-65bf-4de6-a883-174bd1f2d435"
      },
      "outputs": [
        {
          "data": {
            "text/plain": [
              "array([-0.79278983,  3.43365909, -8.2500176 , -2.00117715,  3.91352092,\n",
              "       -1.62955388, -0.35282525,  2.21631428,  4.35888959, -6.13742216])"
            ]
          },
          "execution_count": 9,
          "metadata": {},
          "output_type": "execute_result"
        }
      ],
      "source": [
        "y_test"
      ]
    },
    {
      "cell_type": "code",
      "execution_count": 10,
      "metadata": {
        "colab": {
          "base_uri": "https://localhost:8080/",
          "height": 438
        },
        "id": "cK7O6ge3Khnt",
        "outputId": "fccab542-9902-4427-bf8f-750aea895464"
      },
      "outputs": [
        {
          "name": "stdout",
          "output_type": "stream",
          "text": [
            "[[array([-2.36660954])]\n",
            " [array([0.77089663])]\n",
            " [array([-4.82604657])]\n",
            " [array([0.9152169])]\n",
            " [array([4.11431181])]\n",
            " [array([-2.77570105])]\n",
            " [array([-0.86851365])]\n",
            " [array([0.41895811])]\n",
            " [array([2.41886367])]\n",
            " [array([-5.86321781])]]\n"
          ]
        },
        {
          "data": {
            "image/png": "[encoded data removed]",
            "text/plain": [
              "<Figure size 640x480 with 1 Axes>"
            ]
          },
          "metadata": {},
          "output_type": "display_data"
        }
      ],
      "source": [
        "plot_predictions(X, y, 0.156, 10)"
      ]
    },
    {
      "cell_type": "code",
      "execution_count": 11,
      "metadata": {
        "colab": {
          "base_uri": "https://localhost:8080/"
        },
        "id": "ObNgih-B4Q5U",
        "outputId": "bdcc99bf-c346-4d7e-85fe-364d1045c6d8"
      },
      "outputs": [
        {
          "name": "stdout",
          "output_type": "stream",
          "text": [
            "Root Mean Square Error:\n",
            "\n",
            "5.018207551593326\n"
          ]
        }
      ],
      "source": [
        "error(X_test, y_test, 0.156)"
      ]
    },
    {
      "cell_type": "markdown",
      "metadata": {
        "id": "uCIqEHinLP7A"
      },
      "source": [
        "*Here, considering the entire dataset, the root mean squared error for Locally Weighted Linear Regression is more than the Simple Linear Regression with any amount of depth. Moreover, here, for locally weighted we need to incorporate the entire dataset everytime we need to make predictions. Hence, we can infer that, for the given dataset, Simple Linear Regression performs better than Locally Weighted*"
      ]
    },
    {
      "cell_type": "code",
      "execution_count": 12,
      "metadata": {
        "id": "MXYIWh487KcB"
      },
      "outputs": [],
      "source": [
        "def error(X_test, y_test, gamma):\n",
        "    preds = []\n",
        "    nval = X_test.shape[0]\n",
        "    for x in X_test:\n",
        "        theta, pred = predict(X[:20], y[:20], x, gamma)\n",
        "        preds.append(pred)\n",
        "    preds = np.array(preds).reshape(nval,1)\n",
        "    \n",
        "    MSE = np.square(np.subtract(y_test,preds)).mean() \n",
        " \n",
        "    RMSE = math.sqrt(MSE)\n",
        "    print(\"Root Mean Square Error:\\n\")\n",
        "    print(RMSE)"
      ]
    },
    {
      "cell_type": "code",
      "execution_count": 13,
      "metadata": {
        "colab": {
          "base_uri": "https://localhost:8080/"
        },
        "id": "bH1M6Df67TF-",
        "outputId": "8ebda49c-367f-4ebf-8608-be2b51ff42f0"
      },
      "outputs": [
        {
          "name": "stdout",
          "output_type": "stream",
          "text": [
            "Root Mean Square Error:\n",
            "\n",
            "6.568220217254111\n"
          ]
        }
      ],
      "source": [
        "error(X_test, y_test, 0.156)"
      ]
    },
    {
      "cell_type": "markdown",
      "metadata": {
        "id": "lTSVQSNhNwIr"
      },
      "source": [
        "*Here it can be inferred that the root mean squared for 20 elements is more for Locally Weighted Linear Regression as compared to the steady state of Simple Linear Regression for the same. Hence, based on both the evidencces we can deduce that the Simple Linear Regression curve fits the dataset better than the Locally Weighted Linear Regression curve*"
      ]
    },
    {
      "attachments": {},
      "cell_type": "markdown",
      "metadata": {
        "id": "pHO_y10POsDi"
      },
      "source": [
        "*From the above results, we can infer that the data doesn't performs better with the function \"Theta(0) + Theta(1)x\" which corresponds with the Locally Weighted Linear Regression. But it can be deduced that the funnction does not require local weights assignment and works better in tune with the Simple Linear Regression function* "
      ]
    }
  ],
  "metadata": {
    "colab": {
      "collapsed_sections": [],
      "name": "8341_Weighted_Lin.ipynb",
      "provenance": []
    },
    "kernelspec": {
      "display_name": "Python 3",
      "language": "python",
      "name": "python3"
    },
    "language_info": {
      "codemirror_mode": {
        "name": "ipython",
        "version": 3
      },
      "file_extension": ".py",
      "mimetype": "text/x-python",
      "name": "python",
      "nbconvert_exporter": "python",
      "pygments_lexer": "ipython3",
      "version": "3.9.9"
    },
    "vscode": {
      "interpreter": {
        "hash": "6e692de43357d6e986329523fab310ff3d22003e71019b3bb2df97ba14573b0c"
      }
    }
  },
  "nbformat": 4,
  "nbformat_minor": 0
}
