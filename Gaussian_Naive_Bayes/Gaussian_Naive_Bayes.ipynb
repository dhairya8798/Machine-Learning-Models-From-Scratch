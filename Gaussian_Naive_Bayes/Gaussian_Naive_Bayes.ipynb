{
  "cells": [
    {
      "cell_type": "code",
      "execution_count": 1,
      "id": "4b71f334",
      "metadata": {
        "id": "4b71f334"
      },
      "outputs": [],
      "source": [
        "import math\n",
        "import numpy as np\n",
        "import pandas as pd"
      ]
    },
    {
      "cell_type": "code",
      "execution_count": 2,
      "id": "4d0c79bc",
      "metadata": {
        "id": "4d0c79bc"
      },
      "outputs": [],
      "source": [
        "# calculate gaussian probability\n",
        "def c_g_p(x, mu, sigma):\n",
        "    return 1 / (math.sqrt(sigma ** math.pi)) * np.exp(-sigma * np.power((x - mu), 2))"
      ]
    },
    {
      "cell_type": "code",
      "execution_count": 3,
      "id": "18a80501",
      "metadata": {
        "id": "18a80501"
      },
      "outputs": [],
      "source": [
        "# calculate the Probability Density Function (PDF) of ' M ' and ' W '\n",
        "def p_calc(x, feature, a_train):\n",
        "    \n",
        "    p_f_m_m = np.mean(a_train.loc[a_train['g'] == ' M '][feature].values) # calculate men mean\n",
        "    p_f_m_s = np.std(a_train.loc[a_train['g'] == ' M '][feature].values) # calculate men std deviation\n",
        "    p_f_m = c_g_p(x, p_f_m_m, p_f_m_s) # pdf feature men\n",
        "\n",
        "    p_f_w_m = np.mean(a_train.loc[a_train['g'] == ' W '][feature].values) # calculate women mean\n",
        "    p_f_w_s = np.std(a_train.loc[a_train['g'] == ' W '][feature].values) # calculate women std deviation\n",
        "    p_f_w = c_g_p(x, p_f_w_m, p_f_w_s) # pdf feature women\n",
        "\n",
        "    return p_f_m, p_f_w"
      ]
    },
    {
      "cell_type": "code",
      "execution_count": 4,
      "id": "412e4e55",
      "metadata": {
        "id": "412e4e55"
      },
      "outputs": [],
      "source": [
        "# gaussian naive bayes classification\n",
        "def gnb_classification(x, a_train, drop_age):\n",
        "    \n",
        "    # calculate PDFs for each feature\n",
        "    pdf_hm, pdf_hw = p_calc(x[0], 'h', a_train) # height for men and women\n",
        "    pdf_wm, pdf_ww = p_calc(x[1], 'w', a_train) # weight for men and women\n",
        "\n",
        "    # calculate prior probabilities of the classes    \n",
        "    n_men, n_women = np.count_nonzero(np.asarray(a_train['g']) == ' M '), np.count_nonzero(np.asarray(a_train['g']) == ' W ')\n",
        "    tot_classes = n_women + n_men\n",
        "    man_p, woman_p = n_men / tot_classes, n_women / tot_classes\n",
        "\n",
        "    if drop_age:\n",
        "        \n",
        "        p_m = pdf_hm * pdf_wm * man_p # PDF_height_men*PDF_weight_men*prior_men\n",
        "        p_w = pdf_hw * pdf_ww * woman_p\n",
        "    else:\n",
        "        pdf_am, pdf_aw = p_calc(x[2], 'a', a_train) \n",
        "\n",
        "        \n",
        "        p_m = pdf_hm * pdf_wm * pdf_am * man_p\n",
        "        p_w = pdf_hw * pdf_ww * pdf_aw * woman_p\n",
        "        \n",
        "    return ' M ' if p_m > p_w else ' W '"
      ]
    },
    {
      "cell_type": "code",
      "execution_count": 5,
      "id": "085d233a",
      "metadata": {
        "id": "085d233a"
      },
      "outputs": [],
      "source": [
        "a_train = pd.read_csv('Train.csv')\n",
        "a_test = pd.read_csv('Sample_test.csv')\n",
        "a_test = a_test.values"
      ]
    },
    {
      "cell_type": "code",
      "execution_count": 6,
      "id": "04482c06",
      "metadata": {
        "colab": {
          "base_uri": "https://localhost:8080/"
        },
        "id": "04482c06",
        "outputId": "f39c6b1a-2662-4235-cd7d-20d77fe183a0"
      },
      "outputs": [
        {
          "name": "stdout",
          "output_type": "stream",
          "text": [
            "For test data point = [ 1.86951158 76.13764299 32.        ]\n",
            "\tOutput is  M \n",
            "For test data point = [ 1.44964692 60.1069934  24.        ]\n",
            "\tOutput is  W \n",
            "For test data point = [ 1.50062171 70.4236467  28.        ]\n",
            "\tOutput is  W \n",
            "For test data point = [ 1.64928523 65.99131108 28.        ]\n",
            "\tOutput is  W \n"
          ]
        }
      ],
      "source": [
        "for x in a_test:\n",
        "        print(\"For test data point = {}\".format(x))\n",
        "        pre1 = gnb_classification(x, a_train, drop_age=False)\n",
        "        print(\"\\tOutput is {}\".format(pre1))"
      ]
    },
    {
      "cell_type": "code",
      "execution_count": 7,
      "id": "356cd1a6",
      "metadata": {
        "id": "356cd1a6"
      },
      "outputs": [],
      "source": [
        "c = pd.read_csv('Test.csv')"
      ]
    },
    {
      "cell_type": "code",
      "execution_count": 8,
      "id": "9af1787f",
      "metadata": {
        "colab": {
          "base_uri": "https://localhost:8080/"
        },
        "id": "9af1787f",
        "outputId": "1c6741d0-f42a-41fe-9141-17b309c65951"
      },
      "outputs": [
        {
          "name": "stdout",
          "output_type": "stream",
          "text": [
            "GNB output\n",
            "69/120 Predictions/Total using all features\n",
            "accuracy for all features = 0.575\n",
            "70/120 Predictions/Total excluding age\n",
            "accuracy for all features = 0.5833333333333334\n"
          ]
        }
      ],
      "source": [
        "p_a, p_e = 0, 0\n",
        "\n",
        "for index, test_sample in c.iterrows():\n",
        "        sample = test_sample.values[:3]\n",
        "        target = test_sample.values[3]\n",
        "        prediction = gnb_classification(sample, c.drop(index), drop_age=False)\n",
        "        p_a += 1 if target == prediction else 0\n",
        "        \n",
        "        prediction = gnb_classification(sample[:2], c.drop(index),\n",
        "                                                         drop_age=True)\n",
        "        p_e += 1 if target == prediction else 0\n",
        "        \n",
        "print(\"GNB output\")\n",
        "print(\"{}/{} Predictions/Total using all features\".format(p_a, c.shape[0]))\n",
        "ac1 = p_a/c.shape[0]\n",
        "print(\"accuracy for all features = {}\".format(ac1))\n",
        "print(\"{}/{} Predictions/Total excluding age\".format(p_e, c.shape[0]))\n",
        "ac2 = p_e/c.shape[0]\n",
        "print(\"accuracy for all features = {}\".format(ac2))"
      ]
    }
  ],
  "metadata": {
    "colab": {
      "collapsed_sections": [],
      "name": "HW1_Q3_1001868341.ipynb",
      "provenance": []
    },
    "kernelspec": {
      "display_name": "Python 3.10.5 64-bit (windows store)",
      "language": "python",
      "name": "python3"
    },
    "language_info": {
      "codemirror_mode": {
        "name": "ipython",
        "version": 3
      },
      "file_extension": ".py",
      "mimetype": "text/x-python",
      "name": "python",
      "nbconvert_exporter": "python",
      "pygments_lexer": "ipython3",
      "version": "3.10.5"
    },
    "vscode": {
      "interpreter": {
        "hash": "07bb5588d5b88d8ab5caa78e997b52b5cb99e2b407f2f1317d7849b3cf6ed001"
      }
    }
  },
  "nbformat": 4,
  "nbformat_minor": 5
}
