{
  "cells": [
    {
      "cell_type": "code",
      "execution_count": 14,
      "id": "7eb80116",
      "metadata": {},
      "outputs": [],
      "source": [
        "# %pip install tabulate"
      ]
    },
    {
      "cell_type": "code",
      "execution_count": 15,
      "id": "3d7c3f15",
      "metadata": {
        "id": "3d7c3f15"
      },
      "outputs": [],
      "source": [
        "import numpy as np\n",
        "import pandas as pd\n",
        "from random import randrange\n",
        "import csv\n",
        "\n",
        "pd.set_option(\"display.precision\", 8)"
      ]
    },
    {
      "attachments": {},
      "cell_type": "markdown",
      "id": "HKg9ziX4g0u8",
      "metadata": {
        "id": "HKg9ziX4g0u8"
      },
      "source": [
        "# Agglomerative clustering"
      ]
    },
    {
      "attachments": {},
      "cell_type": "markdown",
      "id": "mk6hGv6AYugV",
      "metadata": {
        "id": "mk6hGv6AYugV"
      },
      "source": [
        "## Class"
      ]
    },
    {
      "cell_type": "code",
      "execution_count": 16,
      "id": "f5851737",
      "metadata": {
        "id": "f5851737"
      },
      "outputs": [],
      "source": [
        "class AgglomerativeClustering:\n",
        "    \n",
        "    def __init__(self,n_clusters=2,linkage=\"single\"):\n",
        "        \n",
        "        self.n_clusters = n_clusters\n",
        "        self.linkage = linkage\n",
        "\n",
        "    def fit_predict(self,X):\n",
        "        '''fitting X and predicting labels'''\n",
        "\n",
        "        n=X.shape[0] #number of datapoints     \n",
        "        d=self.d_matrix(X) #generating distance matrix\n",
        "        cluster=self.get_initial_cluster(n) #assigning initial clusters to datapoints\n",
        "\n",
        "        s=set(range(n))     \n",
        "        for _ in range(n-self.n_clusters): \n",
        "            p,q=np.unravel_index(np.argmin(d, axis=None), d.shape)\n",
        "            t_set=s-{p,q}\n",
        "            d=self.update_d(d,p,q,t_set,self.linkage) #updating distance matrix\n",
        "            cluster=self.update_cluster(cluster,p,q) #updating clusters\n",
        "            s=s-{max(p,q)} #removing utilised datapoint\n",
        "\n",
        "        decor_l=[]\n",
        "        for v in cluster.values():\n",
        "            decor_l.append(v)\n",
        "        \n",
        "        self.labels_= self.clustertolabels(decor_l)\n",
        "        return self.labels_\n",
        "\n",
        "    def clustertolabels(self,clusters):\n",
        "        '''formatting clusters to labels'''\n",
        "        \n",
        "        ln = sum([len(c) for c in clusters])\n",
        "        labels = np.zeros(ln,dtype = int)\n",
        "        ind = -1\n",
        "        for c in clusters:\n",
        "            ind+=1\n",
        "            for i in c:\n",
        "                labels[i] = ind\n",
        "        return labels\n",
        "\n",
        "\n",
        "    def d_matrix(self,data):\n",
        "        '''upper triangular distance matrix'''\n",
        "\n",
        "        n=data.shape[0]  \n",
        "        d=np.empty(shape=[n,n]) \n",
        "        d.fill(np.inf)  \n",
        "        for i in range(n-1):\n",
        "            for j in range(i+1,n):\n",
        "                d[i,j]=distance(data[i],data[j]) \n",
        "        return d\n",
        "\n",
        "    \n",
        "    def get_initial_cluster(self,n):\n",
        "        '''function to define initial clusters'''\n",
        "        \n",
        "        c={}\n",
        "        for i in range(n):\n",
        "            c[i]={i}   \n",
        "        return c\n",
        "\n",
        "   \n",
        "    def update_d(self,d,p,q,t_set,linkage):\n",
        "        '''updating the distance matrix with distances according to the linkage criteria'''\n",
        "\n",
        "        for i in t_set: \n",
        "            \n",
        "            u,v=min(i,p),max(i,p) \n",
        "            w,x=min(i,q),max(i,q)\n",
        "            if(linkage==\"complete\"):\n",
        "                t=max(d[u,v],d[w,x])\n",
        "            elif(linkage==\"average\"):\n",
        "                t=(d[u,v]+d[w,x])/2\n",
        "            else:     \n",
        "                t=min(d[u,v],d[w,x])\n",
        "        \n",
        "            d[u,v]=t\n",
        "            d[w,x]=t\n",
        "            \n",
        "        m_pq=max(p,q)\n",
        "        d[m_pq,:]=np.inf\n",
        "        d[:,m_pq]=np.inf\n",
        "        return d\n",
        "\n",
        "\n",
        "    def update_cluster(self,c,p,q):\n",
        "        '''updating centroids with merging'''\n",
        "\n",
        "        i=c.pop(max(p,q))\n",
        "        m=min(p,q)\n",
        "        c[m]=c[m].union(i) \n",
        "        return c"
      ]
    },
    {
      "attachments": {},
      "cell_type": "markdown",
      "id": "jBF-JMTDc5NA",
      "metadata": {
        "id": "jBF-JMTDc5NA"
      },
      "source": [
        "## Distance Matrix for Agglomerative Clustering"
      ]
    },
    {
      "cell_type": "code",
      "execution_count": 17,
      "id": "33ed821c",
      "metadata": {
        "id": "33ed821c"
      },
      "outputs": [],
      "source": [
        "def distance(pt1,pt2):\n",
        "    '''Calculate distance between two points'''\n",
        "    \n",
        "    dim=len(pt1)  \n",
        "    s=0\n",
        "    for i in range(dim):\n",
        "        s+=(pt1[i]-pt2[i])**2 \n",
        "    dist=np.sqrt(s)  \n",
        "    return dist"
      ]
    },
    {
      "attachments": {},
      "cell_type": "markdown",
      "id": "b5cd7501",
      "metadata": {
        "id": "b5cd7501"
      },
      "source": [
        "# KNN"
      ]
    },
    {
      "attachments": {},
      "cell_type": "markdown",
      "id": "xj6DORdXZHxQ",
      "metadata": {
        "id": "xj6DORdXZHxQ"
      },
      "source": [
        "## Main KNN functions"
      ]
    },
    {
      "cell_type": "code",
      "execution_count": 18,
      "id": "0c58092f",
      "metadata": {
        "id": "0c58092f"
      },
      "outputs": [],
      "source": [
        "def e_dist(sample, inputs):\n",
        "    '''function to calculate euclidian distance'''\n",
        "    \n",
        "    return np.power(np.sum(np.power(sample - inputs, 2), axis=1), 0.5)\n",
        "\n",
        "def lab_csfy(k, sorted_labels):\n",
        "    '''function to determine the label by classifying'''\n",
        "\n",
        "    kns = sorted_labels[:k] #get first k labels sorted based on increasing distances\n",
        "    \n",
        "    #getting the most frequent out of k labels\n",
        "    uniq_lab = np.unique(kns)\n",
        "    count = []\n",
        "    for i in uniq_lab:\n",
        "        cnt = np.count_nonzero(kns == i)\n",
        "        count.append(cnt)\n",
        "\n",
        "    return uniq_lab[np.argmax(count)]\n",
        "\n",
        "def knn_main(sample, k, X, y):\n",
        "    '''main classification function'''\n",
        "  \n",
        "    labels = list(y)\n",
        "    inputs = list(X)\n",
        "\n",
        "    e_d = e_dist(sample, inputs) #getting euclidian distance from every datapoint\n",
        "\n",
        "    labeled_euclidian = np.vstack((e_d, labels)) #mapping distances and associated labels in 2D array\n",
        "\n",
        "    sorted_euclidian = labeled_euclidian.T[labeled_euclidian.T[:, 0].argsort()] #sort the above array based on increasing distances\n",
        "    sorted_labels = sorted_euclidian.T[1] #segregating labels for classifying\n",
        "\n",
        "    return lab_csfy(k, sorted_labels)"
      ]
    },
    {
      "attachments": {},
      "cell_type": "markdown",
      "id": "SKRoCwrEZo9M",
      "metadata": {
        "id": "SKRoCwrEZo9M"
      },
      "source": [
        "## Creating new features for the train and test data"
      ]
    },
    {
      "attachments": {},
      "cell_type": "markdown",
      "id": "LlhibqoGbc5q",
      "metadata": {
        "id": "LlhibqoGbc5q"
      },
      "source": [
        "### Splitting data in train and test sets and returning final sets"
      ]
    },
    {
      "cell_type": "code",
      "execution_count": 19,
      "id": "T54iNcHS3dCj",
      "metadata": {
        "id": "T54iNcHS3dCj"
      },
      "outputs": [],
      "source": [
        "def datasets_for_KNN(df, n, linkage): \n",
        "  '''\n",
        "    assigning cluster ids as new species(labels); updating and returning training and testing data for subsequent KNN classifier\n",
        "    df -> input dataframe\n",
        "    n -> no.of clusters\n",
        "  '''\n",
        "  \n",
        "  df = df.iloc[:,:-1].reindex(np.random.permutation(df.index)).reset_index(drop = True) #shuffling the rows of dataframe\n",
        "\n",
        "  #splitting the dataframe into train and test based on given fraction\n",
        "  training_data=df.sample(frac=0.7,random_state=1000).reset_index(drop = True)\n",
        "  testing_data=df.drop(training_data.index).sample(frac=1.0).reset_index(drop = True)\n",
        "\n",
        "  #generating cluster ids for, and appending them to training data \n",
        "  clustering = AgglomerativeClustering(n_clusters=n,linkage=linkage)\n",
        "  pred_clusters = clustering.fit_predict(training_data.values)\n",
        "  training_data['clst_ids'] = pred_clusters\n",
        "  \n",
        "  return (train_test_generation(n, training_data, testing_data))"
      ]
    },
    {
      "attachments": {},
      "cell_type": "markdown",
      "id": "YVhxcxr6cAKi",
      "metadata": {
        "id": "YVhxcxr6cAKi"
      },
      "source": [
        "### Generating new features pertaining to the association of a train set datapoint with each cluster"
      ]
    },
    {
      "cell_type": "code",
      "execution_count": 20,
      "id": "RxcU9g0w4Edp",
      "metadata": {
        "id": "RxcU9g0w4Edp"
      },
      "outputs": [],
      "source": [
        "def train_test_generation(n, training_data, testing_data):\n",
        "  '''\n",
        "    generating new features based on \"cluster centroids\" as cluster representatives\n",
        "    n -> no. of clusters\n",
        "    training_data -> training_data\n",
        "    testing_data -> testing_data\n",
        "  '''\n",
        "\n",
        "  for i in range(n):\n",
        "    indexes = np.where(training_data['clst_ids'] == i) #getting the indexes of the rows where cluster id = i\n",
        "    df_i = training_data.iloc[indexes[0], :-1].reset_index(drop = True) #creating intermediate dataframe of corresponding cluster id\n",
        "    centroid = list(df_i.mean()) #getting the centroid of the corresponding cluster id of training data\n",
        "    training_features = training_data.iloc[:,:-1]\n",
        "    col = \"feature_\" + str(i)\n",
        "    \n",
        "    tr_list = []\n",
        "    #appending the new features to the training data\n",
        "    for point in training_features.values:\n",
        "      tr_list.append(np.power(np.sum(np.square(point-centroid)), 0.5))\n",
        "    training_data[col] = tr_list\n",
        "    training_data[col] = scale_column(training_data, col)\n",
        "    training_data['clst_ids'] = training_data.pop('clst_ids')\n",
        "\n",
        "    te_list = []\n",
        "    #appending the new features to the testing data calculated based on the centroid of training data\n",
        "    for point in testing_data.values:\n",
        "      te_list.append(np.power(np.sum(np.square(point-centroid)), 0.5))\n",
        "    testing_data[col] = te_list\n",
        "    testing_data[col] = scale_column(testing_data, col)\n",
        "\n",
        "  return training_data, testing_data"
      ]
    },
    {
      "attachments": {},
      "cell_type": "markdown",
      "id": "A_z0Ac4HcjGM",
      "metadata": {
        "id": "A_z0Ac4HcjGM"
      },
      "source": [
        "### Scaling the generated features w.r.t mean and std deviation"
      ]
    },
    {
      "cell_type": "code",
      "execution_count": 21,
      "id": "23CTGIl2fuIE",
      "metadata": {
        "id": "23CTGIl2fuIE"
      },
      "outputs": [],
      "source": [
        "def scale_column(df, col):\n",
        "  mean = df[col].mean()\n",
        "  std = df[col].std()\n",
        "  return((df[col] - mean)/(mean - std))"
      ]
    },
    {
      "attachments": {},
      "cell_type": "markdown",
      "id": "uFLUGnSqez6I",
      "metadata": {
        "id": "uFLUGnSqez6I"
      },
      "source": [
        "# K-Fold Cross Validation"
      ]
    },
    {
      "attachments": {},
      "cell_type": "markdown",
      "id": "u_xARqZ7BCwT",
      "metadata": {
        "id": "u_xARqZ7BCwT"
      },
      "source": [
        "## Main Functions"
      ]
    },
    {
      "cell_type": "code",
      "execution_count": 22,
      "id": "m1VC75iOFJxJ",
      "metadata": {
        "id": "m1VC75iOFJxJ"
      },
      "outputs": [],
      "source": [
        "def cv_sublists(dataset, folds):\n",
        "    '''Function to create folds of the data'''\n",
        "\n",
        "    nested_list = [] #nested list of \"folds\" no. of sublists \n",
        "    df_cv = dataset\n",
        "    fold_size = int(df_cv.shape[0] / folds) #length of each sublist\n",
        "        \n",
        "    for i in range(folds): #loop to append each fold as a sublist\n",
        "        fold = []\n",
        "        \n",
        "        while len(fold) < fold_size: #loop to add items to the sublist\n",
        "            \n",
        "            #selecting and appending a random row to sublist\n",
        "            r = randrange(0, df_cv.shape[0]) \n",
        "            index = df_cv.index[r]\n",
        "            fold.append(df_cv.loc[index].values.tolist())\n",
        "            \n",
        "            df_cv = df_cv.drop(index) #deleting the row added to the sublist\n",
        "    \n",
        "        nested_list.append(np.asarray(fold))\n",
        "            \n",
        "    return nested_list "
      ]
    },
    {
      "attachments": {},
      "cell_type": "markdown",
      "id": "YM7hl_81S6R5",
      "metadata": {
        "id": "YM7hl_81S6R5"
      },
      "source": [
        "## Function for calculating accuracy"
      ]
    },
    {
      "cell_type": "code",
      "execution_count": 23,
      "id": "aRwjGqpPS9wV",
      "metadata": {
        "id": "aRwjGqpPS9wV"
      },
      "outputs": [],
      "source": [
        "def compute_accuracy(original, predicted):\n",
        "    count = 0\n",
        "    for i in range(len(original)):\n",
        "        if original[i] == predicted[i]:\n",
        "            count += 1\n",
        "    return count / float(len(original))"
      ]
    },
    {
      "attachments": {},
      "cell_type": "markdown",
      "id": "fd2XFT0QTHoO",
      "metadata": {
        "id": "fd2XFT0QTHoO"
      },
      "source": [
        "## Function to implement K-fold cross validation and return the results "
      ]
    },
    {
      "cell_type": "code",
      "execution_count": 24,
      "id": "jPw_QUbKIhRk",
      "metadata": {
        "id": "jPw_QUbKIhRk"
      },
      "outputs": [],
      "source": [
        "def kfcv_results(dataset, f, k):\n",
        "    '''cv -> intermediate training set of concatenated n-1 folds'''\n",
        "    nested_list=cv_sublists(dataset,f)\n",
        "    result=[]\n",
        "    # determine training data of f-1 sublists and testing data of 1 sublist \n",
        "    for i in range(f):\n",
        "        r = list(range(f))\n",
        "        r.pop(i)\n",
        "        \n",
        "        for j in r :\n",
        "            if j == r[0]:\n",
        "                cv_train = nested_list[j]\n",
        "            else:    \n",
        "                cv_train = np.concatenate((cv_train,nested_list[j]), axis=0)\n",
        "        \n",
        "        predictions = []\n",
        "        for sample in nested_list[i][:,:-1]:\n",
        "            prediction = knn_main(sample, k, cv_train[:,:-1], cv_train[:,-1])\n",
        "            predictions.append(prediction)\n",
        "            \n",
        "        acc = compute_accuracy(nested_list[i][:,-1], predictions)   \n",
        "        result.append(acc) \n",
        "        \n",
        "    return result"
      ]
    },
    {
      "attachments": {},
      "cell_type": "markdown",
      "id": "CkKrXOkwTT9n",
      "metadata": {
        "id": "CkKrXOkwTT9n"
      },
      "source": [
        "# Executing on the Seed Dataset"
      ]
    },
    {
      "cell_type": "code",
      "execution_count": 25,
      "id": "NhyT2VlyuGi9",
      "metadata": {
        "id": "NhyT2VlyuGi9"
      },
      "outputs": [],
      "source": [
        "df = pd.read_csv(\"log.csv\", header = None)"
      ]
    },
    {
      "cell_type": "code",
      "execution_count": 26,
      "id": "vYe5vPiBtwMQ",
      "metadata": {
        "colab": {
          "base_uri": "https://localhost:8080/"
        },
        "id": "vYe5vPiBtwMQ",
        "outputId": "a3890419-1df7-42d8-9232-abf3a131d218"
      },
      "outputs": [
        {
          "name": "stdout",
          "output_type": "stream",
          "text": [
            "\u001b[1msingle Linkage\u001b[0m\n",
            "\n",
            "|   No of Clusters |   Accuracy |\n",
            "|-----------------:|-----------:|\n",
            "|                3 |   0.989796 |\n",
            "|                4 |   0.984694 |\n",
            "|                5 |   0.957483 |\n",
            "|                6 |   0.965986 |\n",
            "\n",
            "Optimal Clusters: 3, Accuracy: 0.989795918367347\n",
            "\n",
            "\n",
            "\u001b[1mcomplete Linkage\u001b[0m\n",
            "\n",
            "|   No of Clusters |   Accuracy |\n",
            "|-----------------:|-----------:|\n",
            "|                3 |   0.965986 |\n",
            "|                4 |   0.981293 |\n",
            "|                5 |   0.95068  |\n",
            "|                6 |   0.955782 |\n",
            "\n",
            "Optimal Clusters: 4, Accuracy: 0.9812925170068028\n",
            "\n",
            "\n",
            "\u001b[1maverage Linkage\u001b[0m\n",
            "\n",
            "|   No of Clusters |   Accuracy |\n",
            "|-----------------:|-----------:|\n",
            "|                3 |   0.97449  |\n",
            "|                4 |   0.981293 |\n",
            "|                5 |   0.947279 |\n",
            "|                6 |   0.957483 |\n",
            "\n",
            "Optimal Clusters: 4, Accuracy: 0.9812925170068028\n",
            "\n",
            "\n"
          ]
        }
      ],
      "source": [
        "clusters = [3,4,5,6]\n",
        "neighbors = [3,4,5,6]\n",
        "Accuracy_linkage = []\n",
        "kfolds = 7\n",
        "    \n",
        "for linkage in ['single', 'complete', 'average']:\n",
        "    Accuracy = []\n",
        "    results_df = pd.DataFrame()\n",
        "    for n in clusters:\n",
        "        \n",
        "        training_data, testing_data = datasets_for_KNN(df, n, linkage) #generating training and testing data inclusive of new features\n",
        "\n",
        "        knn_acc = []\n",
        "        for k in neighbors:\n",
        "            res = kfcv_results(training_data, kfolds, k)\n",
        "            acc = sum(res)/len(res) #computing accuracy of a particular value of k by averaging accuracies in each k-folds iteration\n",
        "            knn_acc.append(acc)\n",
        "        Accuracy.append(sum(knn_acc)/len(knn_acc)) #computing accuracy of cluster by averaging accuracies of different number of neighbors\n",
        "\n",
        "    results_df['No of Clusters'] = clusters\n",
        "    results_df['Accuracy'] = Accuracy\n",
        "\n",
        "    print(f\"\\033[1m{linkage} Linkage\\033[0m\\n\")\n",
        "    print(results_df.to_markdown(index=False)) \n",
        "    print(f\"\\nOptimal Clusters: {results_df['No of Clusters'][results_df['Accuracy'].idxmax()]}, Accuracy: {results_df['Accuracy'].max()}\\n\\n\")"
      ]
    },
    {
      "attachments": {},
      "cell_type": "markdown",
      "id": "z38R57btV9h6",
      "metadata": {
        "id": "z38R57btV9h6"
      },
      "source": [
        "# Predicting on Testing data"
      ]
    },
    {
      "cell_type": "code",
      "execution_count": 27,
      "id": "VCC7oIhEV6_5",
      "metadata": {
        "id": "VCC7oIhEV6_5"
      },
      "outputs": [],
      "source": [
        "training_data, testing_data = datasets_for_KNN(df, 3, 'average')"
      ]
    },
    {
      "cell_type": "code",
      "execution_count": 28,
      "id": "VE6ra-nTY069",
      "metadata": {
        "colab": {
          "base_uri": "https://localhost:8080/",
          "height": 206
        },
        "id": "VE6ra-nTY069",
        "outputId": "53473744-6ca6-4ccb-db37-af4657fdccf2"
      },
      "outputs": [
        {
          "data": {
            "text/html": [
              "<div>\n",
              "<style scoped>\n",
              "    .dataframe tbody tr th:only-of-type {\n",
              "        vertical-align: middle;\n",
              "    }\n",
              "\n",
              "    .dataframe tbody tr th {\n",
              "        vertical-align: top;\n",
              "    }\n",
              "\n",
              "    .dataframe thead th {\n",
              "        text-align: right;\n",
              "    }\n",
              "</style>\n",
              "<table border=\"1\" class=\"dataframe\">\n",
              "  <thead>\n",
              "    <tr style=\"text-align: right;\">\n",
              "      <th></th>\n",
              "      <th>0</th>\n",
              "      <th>1</th>\n",
              "      <th>2</th>\n",
              "      <th>3</th>\n",
              "      <th>4</th>\n",
              "      <th>5</th>\n",
              "      <th>6</th>\n",
              "      <th>feature_0</th>\n",
              "      <th>feature_1</th>\n",
              "      <th>feature_2</th>\n",
              "      <th>clst_ids</th>\n",
              "    </tr>\n",
              "  </thead>\n",
              "  <tbody>\n",
              "    <tr>\n",
              "      <th>0</th>\n",
              "      <td>17.12</td>\n",
              "      <td>15.55</td>\n",
              "      <td>0.8892</td>\n",
              "      <td>5.850</td>\n",
              "      <td>3.566</td>\n",
              "      <td>2.858</td>\n",
              "      <td>5.746</td>\n",
              "      <td>-1.63002949</td>\n",
              "      <td>1.34452798</td>\n",
              "      <td>-0.45591203</td>\n",
              "      <td>0</td>\n",
              "    </tr>\n",
              "    <tr>\n",
              "      <th>1</th>\n",
              "      <td>18.17</td>\n",
              "      <td>16.26</td>\n",
              "      <td>0.8637</td>\n",
              "      <td>6.271</td>\n",
              "      <td>3.512</td>\n",
              "      <td>2.853</td>\n",
              "      <td>6.273</td>\n",
              "      <td>-1.85112793</td>\n",
              "      <td>2.25203607</td>\n",
              "      <td>0.12187518</td>\n",
              "      <td>0</td>\n",
              "    </tr>\n",
              "    <tr>\n",
              "      <th>2</th>\n",
              "      <td>12.10</td>\n",
              "      <td>13.15</td>\n",
              "      <td>0.8793</td>\n",
              "      <td>5.105</td>\n",
              "      <td>2.941</td>\n",
              "      <td>2.201</td>\n",
              "      <td>5.056</td>\n",
              "      <td>1.17998568</td>\n",
              "      <td>-1.38372805</td>\n",
              "      <td>-0.17649579</td>\n",
              "      <td>1</td>\n",
              "    </tr>\n",
              "    <tr>\n",
              "      <th>3</th>\n",
              "      <td>20.71</td>\n",
              "      <td>17.23</td>\n",
              "      <td>0.8763</td>\n",
              "      <td>6.579</td>\n",
              "      <td>3.814</td>\n",
              "      <td>4.451</td>\n",
              "      <td>6.451</td>\n",
              "      <td>-0.63014014</td>\n",
              "      <td>3.76546103</td>\n",
              "      <td>1.34469853</td>\n",
              "      <td>0</td>\n",
              "    </tr>\n",
              "    <tr>\n",
              "      <th>4</th>\n",
              "      <td>13.02</td>\n",
              "      <td>13.76</td>\n",
              "      <td>0.8641</td>\n",
              "      <td>5.395</td>\n",
              "      <td>3.026</td>\n",
              "      <td>3.373</td>\n",
              "      <td>4.825</td>\n",
              "      <td>0.59276997</td>\n",
              "      <td>-2.04756887</td>\n",
              "      <td>-0.28552531</td>\n",
              "      <td>1</td>\n",
              "    </tr>\n",
              "  </tbody>\n",
              "</table>\n",
              "</div>"
            ],
            "text/plain": [
              "       0      1       2      3      4      5      6   feature_0   feature_1  \\\n",
              "0  17.12  15.55  0.8892  5.850  3.566  2.858  5.746 -1.63002949  1.34452798   \n",
              "1  18.17  16.26  0.8637  6.271  3.512  2.853  6.273 -1.85112793  2.25203607   \n",
              "2  12.10  13.15  0.8793  5.105  2.941  2.201  5.056  1.17998568 -1.38372805   \n",
              "3  20.71  17.23  0.8763  6.579  3.814  4.451  6.451 -0.63014014  3.76546103   \n",
              "4  13.02  13.76  0.8641  5.395  3.026  3.373  4.825  0.59276997 -2.04756887   \n",
              "\n",
              "    feature_2  clst_ids  \n",
              "0 -0.45591203         0  \n",
              "1  0.12187518         0  \n",
              "2 -0.17649579         1  \n",
              "3  1.34469853         0  \n",
              "4 -0.28552531         1  "
            ]
          },
          "execution_count": 28,
          "metadata": {},
          "output_type": "execute_result"
        }
      ],
      "source": [
        "training_data.head()"
      ]
    },
    {
      "cell_type": "code",
      "execution_count": 29,
      "id": "h2FuKiYYY2KZ",
      "metadata": {
        "colab": {
          "base_uri": "https://localhost:8080/",
          "height": 206
        },
        "id": "h2FuKiYYY2KZ",
        "outputId": "a8c59319-7b1a-4fdb-a027-2d1d81a5100c"
      },
      "outputs": [
        {
          "data": {
            "text/html": [
              "<div>\n",
              "<style scoped>\n",
              "    .dataframe tbody tr th:only-of-type {\n",
              "        vertical-align: middle;\n",
              "    }\n",
              "\n",
              "    .dataframe tbody tr th {\n",
              "        vertical-align: top;\n",
              "    }\n",
              "\n",
              "    .dataframe thead th {\n",
              "        text-align: right;\n",
              "    }\n",
              "</style>\n",
              "<table border=\"1\" class=\"dataframe\">\n",
              "  <thead>\n",
              "    <tr style=\"text-align: right;\">\n",
              "      <th></th>\n",
              "      <th>0</th>\n",
              "      <th>1</th>\n",
              "      <th>2</th>\n",
              "      <th>3</th>\n",
              "      <th>4</th>\n",
              "      <th>5</th>\n",
              "      <th>6</th>\n",
              "      <th>feature_0</th>\n",
              "      <th>feature_1</th>\n",
              "      <th>feature_2</th>\n",
              "    </tr>\n",
              "  </thead>\n",
              "  <tbody>\n",
              "    <tr>\n",
              "      <th>0</th>\n",
              "      <td>15.26</td>\n",
              "      <td>14.85</td>\n",
              "      <td>0.8696</td>\n",
              "      <td>5.714</td>\n",
              "      <td>3.242</td>\n",
              "      <td>4.543</td>\n",
              "      <td>5.314</td>\n",
              "      <td>-0.52597800</td>\n",
              "      <td>-0.38827005</td>\n",
              "      <td>-0.53229249</td>\n",
              "    </tr>\n",
              "    <tr>\n",
              "      <th>1</th>\n",
              "      <td>14.49</td>\n",
              "      <td>14.61</td>\n",
              "      <td>0.8538</td>\n",
              "      <td>5.715</td>\n",
              "      <td>3.113</td>\n",
              "      <td>4.116</td>\n",
              "      <td>5.396</td>\n",
              "      <td>-0.21336248</td>\n",
              "      <td>-0.96475643</td>\n",
              "      <td>-0.62323201</td>\n",
              "    </tr>\n",
              "    <tr>\n",
              "      <th>2</th>\n",
              "      <td>11.56</td>\n",
              "      <td>13.31</td>\n",
              "      <td>0.8198</td>\n",
              "      <td>5.363</td>\n",
              "      <td>2.683</td>\n",
              "      <td>4.062</td>\n",
              "      <td>5.182</td>\n",
              "      <td>1.33893833</td>\n",
              "      <td>-2.06448273</td>\n",
              "      <td>0.38386626</td>\n",
              "    </tr>\n",
              "    <tr>\n",
              "      <th>3</th>\n",
              "      <td>13.94</td>\n",
              "      <td>14.17</td>\n",
              "      <td>0.8728</td>\n",
              "      <td>5.585</td>\n",
              "      <td>3.150</td>\n",
              "      <td>2.124</td>\n",
              "      <td>5.012</td>\n",
              "      <td>0.19765383</td>\n",
              "      <td>-0.88159793</td>\n",
              "      <td>-1.08867838</td>\n",
              "    </tr>\n",
              "    <tr>\n",
              "      <th>4</th>\n",
              "      <td>11.18</td>\n",
              "      <td>13.04</td>\n",
              "      <td>0.8266</td>\n",
              "      <td>5.220</td>\n",
              "      <td>2.693</td>\n",
              "      <td>3.332</td>\n",
              "      <td>5.001</td>\n",
              "      <td>1.55727580</td>\n",
              "      <td>-1.59124524</td>\n",
              "      <td>0.36397377</td>\n",
              "    </tr>\n",
              "  </tbody>\n",
              "</table>\n",
              "</div>"
            ],
            "text/plain": [
              "       0      1       2      3      4      5      6   feature_0   feature_1  \\\n",
              "0  15.26  14.85  0.8696  5.714  3.242  4.543  5.314 -0.52597800 -0.38827005   \n",
              "1  14.49  14.61  0.8538  5.715  3.113  4.116  5.396 -0.21336248 -0.96475643   \n",
              "2  11.56  13.31  0.8198  5.363  2.683  4.062  5.182  1.33893833 -2.06448273   \n",
              "3  13.94  14.17  0.8728  5.585  3.150  2.124  5.012  0.19765383 -0.88159793   \n",
              "4  11.18  13.04  0.8266  5.220  2.693  3.332  5.001  1.55727580 -1.59124524   \n",
              "\n",
              "    feature_2  \n",
              "0 -0.53229249  \n",
              "1 -0.62323201  \n",
              "2  0.38386626  \n",
              "3 -1.08867838  \n",
              "4  0.36397377  "
            ]
          },
          "execution_count": 29,
          "metadata": {},
          "output_type": "execute_result"
        }
      ],
      "source": [
        "testing_data.head()"
      ]
    },
    {
      "cell_type": "code",
      "execution_count": 30,
      "id": "A4odeDoOY3V4",
      "metadata": {
        "id": "A4odeDoOY3V4"
      },
      "outputs": [],
      "source": [
        "predictions = []\n",
        "for sample in testing_data.values:\n",
        "  prediction = knn_main(sample, 4, training_data.iloc[:,:-1].values, training_data.iloc[:,-1].values)\n",
        "  predictions.append(prediction)"
      ]
    },
    {
      "cell_type": "code",
      "execution_count": 31,
      "id": "sDJEsaNmZw7I",
      "metadata": {
        "colab": {
          "base_uri": "https://localhost:8080/"
        },
        "id": "sDJEsaNmZw7I",
        "outputId": "4578c836-8b91-491a-f309-8f3e07b8a719"
      },
      "outputs": [
        {
          "name": "stdout",
          "output_type": "stream",
          "text": [
            "[0.0, 1.0, 1.0, 1.0, 1.0, 0.0, 1.0, 1.0, 1.0, 0.0, 0.0, 2.0, 2.0, 1.0, 0.0, 1.0, 0.0, 0.0, 1.0, 1.0, 0.0]\n",
            "[1.0, 0.0, 0.0, 0.0, 1.0, 1.0, 0.0, 1.0, 0.0, 0.0, 0.0, 1.0, 0.0, 1.0, 1.0, 0.0, 0.0, 0.0, 0.0, 1.0, 0.0]\n",
            "[2.0, 1.0, 1.0, 0.0, 1.0, 1.0, 0.0, 1.0, 0.0, 2.0, 2.0, 1.0, 1.0, 0.0, 0.0, 1.0, 1.0, 1.0, 0.0, 1.0, 0.0]\n"
          ]
        }
      ],
      "source": [
        "print(predictions[:21])\n",
        "print(predictions[21:42])\n",
        "print(predictions[42:])"
      ]
    },
    {
      "attachments": {},
      "cell_type": "markdown",
      "id": "1K7UIjPkxMTL",
      "metadata": {
        "id": "1K7UIjPkxMTL"
      },
      "source": [
        "# KNN on Original Seed  Dataset"
      ]
    },
    {
      "cell_type": "code",
      "execution_count": 32,
      "id": "wmZ-dmCW1MZU",
      "metadata": {
        "id": "wmZ-dmCW1MZU"
      },
      "outputs": [],
      "source": [
        "import pandas as pd\n",
        "df = pd.read_csv(\"log.csv\", header=None)"
      ]
    },
    {
      "cell_type": "code",
      "execution_count": 33,
      "id": "JxZ-TCgOw_oz",
      "metadata": {
        "id": "JxZ-TCgOw_oz"
      },
      "outputs": [],
      "source": [
        "df = df.sample(frac=1).reset_index(drop = True)\n",
        "df_train = df.iloc[:147, :].reset_index(drop=True)\n",
        "df_test = df.iloc[147:, :].reset_index(drop=True)"
      ]
    },
    {
      "cell_type": "code",
      "execution_count": 34,
      "id": "vRlnCMMe1y8B",
      "metadata": {
        "id": "vRlnCMMe1y8B"
      },
      "outputs": [],
      "source": [
        "X = df_train.iloc[:, :-1].values\n",
        "y = df_train.iloc[:, -1].values\n",
        "X_test = df_test.iloc[:, :-1].values\n",
        "y_test = df_test.iloc[:, -1].values"
      ]
    },
    {
      "cell_type": "code",
      "execution_count": 35,
      "id": "19gnbWsf2fL6",
      "metadata": {
        "colab": {
          "base_uri": "https://localhost:8080/"
        },
        "id": "19gnbWsf2fL6",
        "outputId": "57332d1c-34ce-4f27-f708-201b071bbc0b"
      },
      "outputs": [
        {
          "name": "stdout",
          "output_type": "stream",
          "text": [
            "|   k |   Accuracy |\n",
            "|----:|-----------:|\n",
            "|   3 |   0.877551 |\n",
            "|   4 |   0.897959 |\n",
            "|   5 |   0.884354 |\n",
            "|   6 |   0.877551 |\n",
            "\n",
            "\n",
            "Average Accuracy: 0.8843537414965987\n"
          ]
        }
      ],
      "source": [
        "Accuracy = []\n",
        "knn_df = pd.DataFrame()\n",
        "for k in neighbors:\n",
        "  res = kfcv_results(df_train.iloc[:147,:], 7, k)\n",
        "  acc = sum(res)/len(res)\n",
        "  # print(f\"k = {k}, Accuracy = {acc}\")\n",
        "  Accuracy.append(acc)\n",
        "\n",
        "knn_df['k'] = neighbors\n",
        "knn_df['Accuracy'] = Accuracy\n",
        "print(knn_df.to_markdown(index=False))\n",
        "print(\"\\n\")\n",
        "print(\"Average Accuracy:\", sum(Accuracy)/len(Accuracy))"
      ]
    }
  ],
  "metadata": {
    "colab": {
      "collapsed_sections": [],
      "name": "Project_dxp8341.ipynb",
      "provenance": []
    },
    "kernelspec": {
      "display_name": "Python 3",
      "language": "python",
      "name": "python3"
    },
    "language_info": {
      "codemirror_mode": {
        "name": "ipython",
        "version": 3
      },
      "file_extension": ".py",
      "mimetype": "text/x-python",
      "name": "python",
      "nbconvert_exporter": "python",
      "pygments_lexer": "ipython3",
      "version": "3.9.9"
    },
    "vscode": {
      "interpreter": {
        "hash": "6e692de43357d6e986329523fab310ff3d22003e71019b3bb2df97ba14573b0c"
      }
    }
  },
  "nbformat": 4,
  "nbformat_minor": 5
}
