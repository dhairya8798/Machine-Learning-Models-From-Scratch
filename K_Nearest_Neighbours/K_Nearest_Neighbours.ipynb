{
  "cells": [
    {
      "cell_type": "code",
      "execution_count": 1,
      "metadata": {
        "id": "hD4Zfh-ftmjx"
      },
      "outputs": [],
      "source": [
        "import numpy as np\n",
        "import pandas as pd\n",
        "import math"
      ]
    },
    {
      "cell_type": "code",
      "execution_count": 2,
      "metadata": {
        "id": "J5pr0wX_t2jK"
      },
      "outputs": [],
      "source": [
        "# importing the datasets\n",
        "a_train = pd.read_csv(\"Train.csv\")\n",
        "a_test = pd.read_csv(\"Sample_test.csv\") \n",
        "c = pd.read_csv(\"Test.csv\")"
      ]
    },
    {
      "cell_type": "code",
      "execution_count": 3,
      "metadata": {
        "id": "dpZZDtBTwuP2"
      },
      "outputs": [],
      "source": [
        "# k values\n",
        "ks = [1, 3, 5]\n",
        "\n",
        "# converting to numpy array\n",
        "a_test = a_test.values"
      ]
    },
    {
      "cell_type": "code",
      "execution_count": 4,
      "metadata": {
        "id": "Y9hZXIBBeTDx"
      },
      "outputs": [],
      "source": [
        "# function to calculate euclidian distance\n",
        "def e_dist(x, y):\n",
        "\n",
        "    sqd = np.sum(np.square(x-y), axis=1)\n",
        "    cd = np.power(sqd, 0.5)\n",
        "\n",
        "    return cd"
      ]
    },
    {
      "cell_type": "code",
      "execution_count": 5,
      "metadata": {
        "id": "pBtJAi9_t6zU"
      },
      "outputs": [],
      "source": [
        "# performs classification using k nearest neighbours on a list of sorted labels\n",
        "def g_csfy(k, slab):\n",
        "\n",
        "    kns = slab[:k] # extracting first k number out of all sorted labels \n",
        "    m_s = np.count_nonzero(kns == ' M ') # number of 'M' labels\n",
        "    w_s = np.count_nonzero(kns == ' W ') # number of 'W' labels\n",
        "\n",
        "    return ' M ' if m_s > w_s else ' W '"
      ]
    },
    {
      "cell_type": "code",
      "execution_count": 6,
      "metadata": {
        "id": "RUkictoyt82m"
      },
      "outputs": [],
      "source": [
        "# main KNN function\n",
        "def knn_main(x, k, a_train, a_drop):\n",
        "    \n",
        "    if a_drop:\n",
        "        y = a_train.drop(['a', 'g'], axis=1).values\n",
        "    else:\n",
        "        y = a_train.drop(['g'], axis=1).values\n",
        "\n",
        "    labels = a_train[\"g\"].values\n",
        "\n",
        "    e_d = e_dist(x, y) # getting cartesian distance from each data point\n",
        "\n",
        "    clab = np.vstack((e_d, labels)) # 2D array with 1st column as cartesian distance and 2nd column as corresponding labels\n",
        "\n",
        "    scar = clab.T[clab.T[:, 0].argsort()] # sorting labels based on cartesian distance\n",
        "    slab = scar.T[1]\n",
        "\n",
        "    return g_csfy(k, slab)"
      ]
    },
    {
      "cell_type": "code",
      "execution_count": 7,
      "metadata": {
        "colab": {
          "base_uri": "https://localhost:8080/"
        },
        "id": "QVxq3R8TE3xd",
        "outputId": "72027fa3-7843-4565-bb07-310ee9783566"
      },
      "outputs": [
        {
          "name": "stdout",
          "output_type": "stream",
          "text": [
            "test_point[ 1.86951158 76.13764299 32.        ]\n",
            "\tOutput is  M  for k=1\n",
            "\tOutput is  M  for k=3\n",
            "\tOutput is  M  for k=5\n",
            "test_point[ 1.44964692 60.1069934  24.        ]\n",
            "\tOutput is  W  for k=1\n",
            "\tOutput is  W  for k=3\n",
            "\tOutput is  W  for k=5\n",
            "test_point[ 1.50062171 70.4236467  28.        ]\n",
            "\tOutput is  W  for k=1\n",
            "\tOutput is  W  for k=3\n",
            "\tOutput is  W  for k=5\n",
            "test_point[ 1.64928523 65.99131108 28.        ]\n",
            "\tOutput is  W  for k=1\n",
            "\tOutput is  W  for k=3\n",
            "\tOutput is  W  for k=5\n",
            "\n"
          ]
        }
      ],
      "source": [
        "# making predictions for sample test data for different values of k\n",
        "if __name__ == '__main__':\n",
        "\n",
        "    for x in a_test:\n",
        "        print(\"test_point{}\".format(x))\n",
        "        for k in ks:\n",
        "            prediction_1 = knn_main(x, k, a_train, a_drop=False)\n",
        "            print(\"\\tOutput is {} for k={}\".format(prediction_1, k))\n",
        "    print()"
      ]
    },
    {
      "cell_type": "code",
      "execution_count": 8,
      "metadata": {
        "colab": {
          "base_uri": "https://localhost:8080/"
        },
        "id": "rwR8EAT3uBnH",
        "outputId": "fb942abd-0273-44d0-ed41-cba8f251e000"
      },
      "outputs": [
        {
          "name": "stdout",
          "output_type": "stream",
          "text": [
            "For k=1\n",
            "59/120 Predictions/Total for all features\n",
            "accuracy for all features = 0.49166666666666664\n",
            "67/120 Predictions/Total excluding age\n",
            "accuracy for excluding age = 0.5583333333333333\n",
            "\n",
            "For k=3\n",
            "57/120 Predictions/Total for all features\n",
            "accuracy for all features = 0.475\n",
            "73/120 Predictions/Total excluding age\n",
            "accuracy for excluding age = 0.6083333333333333\n",
            "\n",
            "For k=5\n",
            "66/120 Predictions/Total for all features\n",
            "accuracy for all features = 0.55\n",
            "66/120 Predictions/Total excluding age\n",
            "accuracy for excluding age = 0.55\n",
            "\n"
          ]
        }
      ],
      "source": [
        "# making predictions on the entire test data and calculating accuracy\n",
        "if __name__ == '__main__':\n",
        "\n",
        "    for k in ks:\n",
        "        # p_a -> predictions using all features\n",
        "        # p_e -> predictions using features excluding 'age'\n",
        "        p_a, p_e = 0, 0\n",
        "\n",
        "        # tesp -> test sample\n",
        "        for index, tesp in c.iterrows():\n",
        "            # separating features and label\n",
        "            sp1 = tesp.values[:3]\n",
        "            tgt = tesp.values[3]\n",
        "\n",
        "            prediction = knn_main(sp1, k, c.drop(index), a_drop=False)\n",
        "            p_a += 1 if tgt == prediction else 0\n",
        "            \n",
        "            prediction = knn_main(sp1[:2], k, c.drop(index), a_drop=True)\n",
        "            p_e += 1 if tgt == prediction else 0\n",
        "\n",
        "        print(\"For k={}\".format(k))\n",
        "        print(\"{}/{} Predictions/Total for all features\".format(p_a, c.shape[0]))\n",
        "        ac1 = p_a/c.shape[0]\n",
        "        print(\"accuracy for all features = {}\".format(ac1))\n",
        "        print(\"{}/{} Predictions/Total excluding age\".format(p_e, c.shape[0]))\n",
        "        ac2 = p_e/c.shape[0]\n",
        "        print(\"accuracy for excluding age = {}\".format(ac2))\n",
        "        print()"
      ]
    }
  ],
  "metadata": {
    "colab": {
      "collapsed_sections": [],
      "name": "HW1_Q2_1001868341.ipynb",
      "provenance": []
    },
    "kernelspec": {
      "display_name": "Python 3.10.5 64-bit (windows store)",
      "language": "python",
      "name": "python3"
    },
    "language_info": {
      "name": "python",
      "version": "3.10.5"
    },
    "vscode": {
      "interpreter": {
        "hash": "07bb5588d5b88d8ab5caa78e997b52b5cb99e2b407f2f1317d7849b3cf6ed001"
      }
    }
  },
  "nbformat": 4,
  "nbformat_minor": 0
}
