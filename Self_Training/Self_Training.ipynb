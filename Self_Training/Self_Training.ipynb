{
  "cells": [
    {
      "cell_type": "code",
      "execution_count": 256,
      "metadata": {
        "id": "WhsbeY0C1c1m"
      },
      "outputs": [],
      "source": [
        "import pandas as pd\n",
        "import numpy as np"
      ]
    },
    {
      "cell_type": "code",
      "execution_count": 257,
      "metadata": {
        "id": "FBI_11R_LEZy"
      },
      "outputs": [],
      "source": [
        "def e_dist(x, y):\n",
        "\n",
        "    sqd = np.sum(np.square(x-y), axis=1)\n",
        "    cd = np.power(sqd, 0.5)\n",
        "\n",
        "    return cd"
      ]
    },
    {
      "cell_type": "code",
      "execution_count": 258,
      "metadata": {
        "id": "UIZZkmEQRko-"
      },
      "outputs": [],
      "source": [
        "def g_csfy(k, slab):\n",
        "\n",
        "    kns = slab[:k]\n",
        "    m_s = np.count_nonzero(kns == 'M')\n",
        "    w_s = np.count_nonzero(kns == 'W')\n",
        "    prob = max(m_s, w_s)/k\n",
        "\n",
        "    return 'M' if m_s > w_s else 'W', prob"
      ]
    },
    {
      "cell_type": "code",
      "execution_count": 259,
      "metadata": {
        "id": "HvW04KVGL1P2"
      },
      "outputs": [],
      "source": [
        "def knn_main(x, k, df_train):\n",
        "    \n",
        "    y = df_train.drop(['g'], axis=1).values\n",
        "\n",
        "    labels = df_train[\"g\"].values\n",
        "\n",
        "    e_d = e_dist(x, y)\n",
        "\n",
        "    clab = np.vstack((e_d, labels))\n",
        "\n",
        "    scar = clab.T[clab.T[:, 0].argsort()]\n",
        "    slab = scar.T[1]\n",
        "\n",
        "    return g_csfy(k, slab)"
      ]
    },
    {
      "cell_type": "code",
      "execution_count": 260,
      "metadata": {
        "id": "4k1fvHMjLFJz"
      },
      "outputs": [],
      "source": [
        "def compute_acc(original, predicted):\n",
        "        count = 0\n",
        "        for i in range(len(original)):\n",
        "            if original[i] == predicted[i]:\n",
        "                count += 1\n",
        "        return count / float(len(original)) * 100.0"
      ]
    },
    {
      "attachments": {},
      "cell_type": "markdown",
      "metadata": {
        "id": "a-FM327JOwss"
      },
      "source": [
        "## 1 datapoint"
      ]
    },
    {
      "cell_type": "code",
      "execution_count": 261,
      "metadata": {
        "id": "ZqW82UU8OjaP"
      },
      "outputs": [],
      "source": [
        "df = pd.read_csv('dataset.csv')\n",
        "df_train = df.iloc[:20, :]\n",
        "df_train = df_train.reset_index(drop = True)\n",
        "df_test = df.iloc[20:, :-1]\n",
        "df_test = df_test.reset_index(drop = True)\n",
        "test_labels = df.iloc[20:,-1].values\n",
        "k = 4"
      ]
    },
    {
      "cell_type": "code",
      "execution_count": 262,
      "metadata": {
        "id": "NCZLV4E0RDiN"
      },
      "outputs": [],
      "source": [
        "actual_ylabels = []\n",
        "\n",
        "while True:\n",
        "  probabilities = []\n",
        "  predictions = []\n",
        "\n",
        "  for sample in df_test.values:\n",
        "      preds, probability = knn_main(sample, k, df_train)\n",
        "      probabilities.append(probability)\n",
        "      predictions.append(preds)\n",
        "\n",
        "  sort_index = np.flip(np.argsort(probabilities))\n",
        "  if len(sort_index)==0:\n",
        "    break\n",
        "  actual_ylabels.append(test_labels[sort_index[0]])\n",
        "  pred = [predictions[i] for i in sort_index]\n",
        "\n",
        "  pseudodata = df_test.iloc[sort_index[0],:].copy()\n",
        "  pseudodata['g'] = pred[0]\n",
        "\n",
        "  df_train.loc[len(df_train.index)] = pseudodata.to_list()\n",
        "\n",
        "  # df_train = df_train.append(pseudodata, ignore_index=True)\n",
        "  df_test = df_test.drop(sort_index[0], axis = 0).reset_index(drop = True)\n",
        "\n"
      ]
    },
    {
      "cell_type": "code",
      "execution_count": 263,
      "metadata": {
        "id": "VPM56a96ay9W"
      },
      "outputs": [],
      "source": [
        "y_pred = df_train.iloc[20:, -1].values"
      ]
    },
    {
      "cell_type": "code",
      "execution_count": 264,
      "metadata": {
        "colab": {
          "base_uri": "https://localhost:8080/"
        },
        "id": "LgNB0rq9mLAO",
        "outputId": "35c62191-fd34-4792-be49-865554fd114c"
      },
      "outputs": [
        {
          "name": "stdout",
          "output_type": "stream",
          "text": [
            "Accuracy for 1 datapoint in each iteration: 46.0\n"
          ]
        }
      ],
      "source": [
        "print(f\"Accuracy for 1 datapoint in each iteration: {compute_acc(actual_ylabels, y_pred)}\")"
      ]
    },
    {
      "attachments": {},
      "cell_type": "markdown",
      "metadata": {
        "id": "Lj7JjepMmP1U"
      },
      "source": [
        "## 5 datapoints"
      ]
    },
    {
      "cell_type": "code",
      "execution_count": 265,
      "metadata": {
        "id": "ybfCx0NymS9o"
      },
      "outputs": [],
      "source": [
        "df = pd.read_csv('dataset.csv')\n",
        "df_train = df.iloc[:20, :]\n",
        "df_train = df_train.reset_index(drop = True)\n",
        "df_test = df.iloc[20:, :-1]\n",
        "df_test = df_test.reset_index(drop = True)\n",
        "test_labels = df.iloc[20:,-1].values\n",
        "k = 4"
      ]
    },
    {
      "cell_type": "code",
      "execution_count": 266,
      "metadata": {
        "id": "HfzcWCBwmpQO"
      },
      "outputs": [],
      "source": [
        "actual_ylabels = []\n",
        "\n",
        "while True:\n",
        "\n",
        "  probabilities = []\n",
        "  predictions = []\n",
        "\n",
        "  for sample in df_test.values:\n",
        "      preds, probability = knn_main(sample, k, df_train)\n",
        "      probabilities.append(probability)\n",
        "      predictions.append(preds)\n",
        "\n",
        "  sort_index = np.flip(np.argsort(probabilities))\n",
        "  if len(sort_index)==0:\n",
        "    break\n",
        "  for a in range (5):\n",
        "    actual_ylabels.append(test_labels[sort_index[a]])\n",
        "  pred = [predictions[i] for i in sort_index]\n",
        "\n",
        "  pseudodata = df_test.iloc[sort_index[:5],:].copy()\n",
        "  pseudodata['g'] = pred[:5]\n",
        "\n",
        "  # df_train = df_train.append(pseudodata, ignore_index=True)\n",
        "  frames = [df_train, pseudodata]\n",
        "  df_train = pd.concat(frames, ignore_index=True)\n",
        "  df_test = df_test.drop(sort_index[:5], axis = 0).reset_index(drop = True)"
      ]
    },
    {
      "cell_type": "code",
      "execution_count": 267,
      "metadata": {
        "id": "vmhrEA2PnZtV"
      },
      "outputs": [],
      "source": [
        "y_pred = df_train.iloc[20:, -1].values"
      ]
    },
    {
      "cell_type": "code",
      "execution_count": 268,
      "metadata": {
        "colab": {
          "base_uri": "https://localhost:8080/"
        },
        "id": "PkuyT1jCnbGV",
        "outputId": "370d9cad-d01a-469b-8f24-aeeeaa868d9d"
      },
      "outputs": [
        {
          "name": "stdout",
          "output_type": "stream",
          "text": [
            "Accuracy for 5 datapoints in each iteration: 49.0\n"
          ]
        }
      ],
      "source": [
        "print(f\"Accuracy for 5 datapoints in each iteration: {compute_acc(actual_ylabels, y_pred)}\")"
      ]
    },
    {
      "attachments": {},
      "cell_type": "markdown",
      "metadata": {
        "id": "reNvzAVv11ao"
      },
      "source": [
        "## All points at a time"
      ]
    },
    {
      "cell_type": "code",
      "execution_count": 269,
      "metadata": {
        "id": "Q4YBL6pH18Ml"
      },
      "outputs": [],
      "source": [
        "df = pd.read_csv('dataset.csv')\n",
        "df_train = df.iloc[:20, :]\n",
        "df_train = df_train.reset_index(drop = True)\n",
        "df_test = df.iloc[20:, :-1]\n",
        "df_test = df_test.reset_index(drop = True)\n",
        "test_labels = df.iloc[20:,-1].values\n",
        "k = 4"
      ]
    },
    {
      "cell_type": "code",
      "execution_count": 270,
      "metadata": {
        "id": "u4-qMs1N2Ag8"
      },
      "outputs": [],
      "source": [
        "actual_ylabels = []\n",
        "\n",
        "while True:\n",
        "\n",
        "  probabilities = []\n",
        "  predictions = []\n",
        "\n",
        "  for sample in df_test.values:\n",
        "      preds, probability = knn_main(sample, k, df_train)\n",
        "      probabilities.append(probability)\n",
        "      predictions.append(preds)\n",
        "\n",
        "  sort_index = np.flip(np.argsort(probabilities))\n",
        "  if len(sort_index)==0:\n",
        "    break\n",
        "  for a in range(100):\n",
        "    actual_ylabels.append(test_labels[sort_index[a]])\n",
        "  pred = [predictions[i] for i in sort_index]\n",
        "\n",
        "  pseudodata = df_test.iloc[sort_index[:100],:].copy()\n",
        "  pseudodata['g'] = pred[:100]\n",
        "\n",
        "  frames = [df_train, pseudodata]\n",
        "  df_train = pd.concat(frames, ignore_index=True)\n",
        "  df_test = df_test.drop(sort_index[:100], axis = 0).reset_index(drop = True)"
      ]
    },
    {
      "cell_type": "code",
      "execution_count": 271,
      "metadata": {
        "id": "iQ9ugKlP2DY0"
      },
      "outputs": [],
      "source": [
        "y_pred = df_train.iloc[20:, -1].values"
      ]
    },
    {
      "cell_type": "code",
      "execution_count": 272,
      "metadata": {
        "colab": {
          "base_uri": "https://localhost:8080/"
        },
        "id": "CEIczoK-2FxY",
        "outputId": "3d4facb1-2f0a-4395-fdd1-65c09de6cc48"
      },
      "outputs": [
        {
          "name": "stdout",
          "output_type": "stream",
          "text": [
            "Accuracy for all datapoints in first iteration: 53.0\n"
          ]
        }
      ],
      "source": [
        "print(f\"Accuracy for all datapoints in first iteration: {compute_acc(actual_ylabels, y_pred)}\")"
      ]
    },
    {
      "attachments": {},
      "cell_type": "markdown",
      "metadata": {
        "id": "9_4enRTLw-Hu"
      },
      "source": [
        "## Own constraint setting"
      ]
    },
    {
      "cell_type": "markdown",
      "metadata": {
        "id": "xiisyJG4C4Ax"
      },
      "source": [
        "Here, the constraint is the votes probability of the labels of K data points nearest to the given data point. For instance, suppose a data point has 3 M and 2 W for k = 5, the probability of labels for that data point will be \"0.6 for M\" and \"0.4 for W\" and we use a threshold value to transfer the pseudo labels to the training data such that labels with probabilities more than threshold will be transferred to the training data"
      ]
    },
    {
      "cell_type": "code",
      "execution_count": 273,
      "metadata": {
        "id": "9XvQomMXK9Uu"
      },
      "outputs": [],
      "source": [
        "df = pd.read_csv('dataset.csv')\n",
        "df_train = df.iloc[:20, :]\n",
        "df_train = df_train.reset_index(drop = True)\n",
        "df_test = df.iloc[20:, :-1]\n",
        "df_test = df_test.reset_index(drop = True)\n",
        "test_labels = df.iloc[20:,-1].values\n",
        "k = 4\n",
        "threshold = 0.7"
      ]
    },
    {
      "cell_type": "code",
      "execution_count": 274,
      "metadata": {
        "id": "hML9s6NEsXkG"
      },
      "outputs": [],
      "source": [
        "actual_ylabels = []\n",
        "\n",
        "while True:\n",
        "\n",
        "    probabilities = []\n",
        "    predictions = []\n",
        "    indexes = []\n",
        "\n",
        "    for sample in df_test.values:\n",
        "        preds, probability = knn_main(sample, k, df_train)\n",
        "        probabilities.append(probability)\n",
        "        predictions.append(preds)\n",
        "\n",
        "    indexes = np.where(np.array(probabilities) > threshold)\n",
        "    if len(indexes[0]) == 0:\n",
        "        break\n",
        "    \n",
        "    for i in indexes[0]:\n",
        "      # print(test_labels[i])\n",
        "      actual_ylabels.append(test_labels[i])\n",
        "    \n",
        "\n",
        "    pred = [predictions[i] for i in indexes[0]]\n",
        "\n",
        "    pseudodata = df_test.iloc[indexes[0],:].copy()\n",
        "    pseudodata['g'] = pred\n",
        "\n",
        "    df_train = pd.concat([df_train, pseudodata]).reset_index(drop = True)\n",
        "    df_test = df_test.drop(indexes[0], axis = 0).reset_index(drop = True)"
      ]
    },
    {
      "cell_type": "code",
      "execution_count": 275,
      "metadata": {
        "id": "swz577xWJdZ-"
      },
      "outputs": [],
      "source": [
        "y_pred = df_train.iloc[20:, -1].values"
      ]
    },
    {
      "cell_type": "code",
      "execution_count": 276,
      "metadata": {
        "colab": {
          "base_uri": "https://localhost:8080/"
        },
        "id": "ZpH1Be2nL1Io",
        "outputId": "080c4b6c-6c9b-4c54-a72a-9f803fa294e3"
      },
      "outputs": [
        {
          "name": "stdout",
          "output_type": "stream",
          "text": [
            "Accuracy for constrained no. of datapoints in each iteration: 53.191489361702125\n"
          ]
        }
      ],
      "source": [
        "print(f\"Accuracy for constrained no. of datapoints in each iteration: {compute_acc(actual_ylabels, y_pred)}\")"
      ]
    },
    {
      "attachments": {},
      "cell_type": "markdown",
      "metadata": {
        "id": "JpQmko6zB50r"
      },
      "source": [
        "## Supervised KNN classifier"
      ]
    },
    {
      "cell_type": "code",
      "execution_count": 277,
      "metadata": {
        "id": "tpOwZb1EByYY"
      },
      "outputs": [],
      "source": [
        "df = pd.read_csv('dataset.csv')\n",
        "df_train = df.iloc[:20, :]\n",
        "df_train = df_train.reset_index(drop = True)\n",
        "df_test = df.iloc[20:, :-1]\n",
        "df_test = df_test.reset_index(drop = True)\n",
        "test_labels = df.iloc[20:,-1].values\n",
        "k = 4"
      ]
    },
    {
      "cell_type": "code",
      "execution_count": 278,
      "metadata": {
        "id": "mr5JtWVpCADK"
      },
      "outputs": [],
      "source": [
        "predictions = []\n",
        "for sample in df_test.values:\n",
        "    preds, probability = knn_main(sample, k, df_train)\n",
        "    probabilities.append(probability)\n",
        "    predictions.append(preds)"
      ]
    },
    {
      "cell_type": "code",
      "execution_count": 279,
      "metadata": {
        "colab": {
          "base_uri": "https://localhost:8080/"
        },
        "id": "1d1GdflcCZr9",
        "outputId": "526bb1e5-4041-4c15-88f3-a39e1ee949e3"
      },
      "outputs": [
        {
          "name": "stdout",
          "output_type": "stream",
          "text": [
            "Accuracy for supervised KNN: 53.0\n"
          ]
        }
      ],
      "source": [
        "print(f\"Accuracy for supervised KNN: {compute_acc(test_labels, predictions)}\")"
      ]
    },
    {
      "cell_type": "markdown",
      "metadata": {
        "id": "mA5OSUnWCy8v"
      },
      "source": [
        "Accuracy:\n",
        "\n",
        "For 1 datapoint in each iteration: 46.0\n",
        "\n",
        "For 5 datapoints in each iteration: 49.0\n",
        "\n",
        "For all datapoints in first iteration: 53.0\n",
        "\n",
        "For constrained no. of datapoints in each iteration: 53.191489361702125\n",
        "\n",
        "For supervised KNN: 53.0\n",
        "\n",
        "Here, we can infer that constrained datapoints as pseudo training data give better results compared to other iteration criteria. This is because, with each iteration, only the predictions that are above the specified threshold are added for training before the next iteration of prediction and hence all the predicted data with high probability of prediction is going in training as opposed to truncated data in the 1 datapoint, 5 datapoint iterations."
      ]
    }
  ],
  "metadata": {
    "colab": {
      "name": "P3_ST_8341.ipynb",
      "provenance": []
    },
    "kernelspec": {
      "display_name": "Python 3",
      "language": "python",
      "name": "python3"
    },
    "language_info": {
      "codemirror_mode": {
        "name": "ipython",
        "version": 3
      },
      "file_extension": ".py",
      "mimetype": "text/x-python",
      "name": "python",
      "nbconvert_exporter": "python",
      "pygments_lexer": "ipython3",
      "version": "3.9.9"
    },
    "vscode": {
      "interpreter": {
        "hash": "6e692de43357d6e986329523fab310ff3d22003e71019b3bb2df97ba14573b0c"
      }
    }
  },
  "nbformat": 4,
  "nbformat_minor": 0
}
