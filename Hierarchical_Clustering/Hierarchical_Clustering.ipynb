{
  "cells": [
    {
      "cell_type": "code",
      "execution_count": 22,
      "id": "50880b83",
      "metadata": {
        "id": "50880b83"
      },
      "outputs": [],
      "source": [
        "import numpy as np\n",
        "import pandas as pd"
      ]
    },
    {
      "cell_type": "code",
      "execution_count": 23,
      "id": "45de7511",
      "metadata": {
        "id": "45de7511"
      },
      "outputs": [],
      "source": [
        "class HierarchicalClustering:\n",
        "    \n",
        "    def __init__(self,n_clusters=2,linkage=\"single\"):\n",
        "    \n",
        "        self.n_clusters = n_clusters\n",
        "        self.linkage = linkage\n",
        "\n",
        "    def fit_predict(self,X):\n",
        "    \n",
        "        n=X.shape[0] \n",
        "        d=self.d_matrix(X)   \n",
        "        cluster=self.get_initial_cluster(n)\n",
        "       \n",
        "        s=set(range(n))     \n",
        "        for _ in range(n-self.n_clusters):\n",
        "            p,q=np.unravel_index(np.argmin(d, axis=None), d.shape)\n",
        "            t_set=s-{p,q} \n",
        "            d=self.update_d(d,p,q,t_set,self.linkage)\n",
        "            cluster=self.update_cluster(cluster,p,q) \n",
        "            s=s-{max(p,q)}\n",
        "        decor_l=[]\n",
        "        for v in cluster.values():\n",
        "            decor_l.append(v)\n",
        "        \n",
        "        self.labels_= self.clustertolabels(decor_l)\n",
        "        return self.labels_\n",
        "\n",
        "    def clustertolabels(self,clusters):\n",
        "    \n",
        "        ln = sum([len(c) for c in clusters])\n",
        "        labels = np.zeros(ln,dtype = np.int64)\n",
        "        ind = -1\n",
        "        for c in clusters:\n",
        "            ind+=1\n",
        "            for i in c:\n",
        "                labels[i] = ind\n",
        "        return labels\n",
        "\n",
        "\n",
        "    def d_matrix(self,data):\n",
        "    \n",
        "        n=data.shape[0] \n",
        "        d=np.empty(shape=[n,n])\n",
        "        d.fill(np.inf)  \n",
        "        \n",
        "        for i in range(n-1):\n",
        "            for j in range(i+1,n):\n",
        "                d[i,j]=distance(data[i],data[j]) \n",
        "        return d\n",
        "\n",
        "    \n",
        "    def get_initial_cluster(self,n):\n",
        "    \n",
        "        c={}\n",
        "        for i in range(n):\n",
        "            c[i]={i}   \n",
        "        return c\n",
        "\n",
        "   \n",
        "    def update_d(self,d,p,q,t_set,linkage):\n",
        "    \n",
        "        for i in t_set:\n",
        "            \n",
        "            u,v=min(i,p),max(i,p) \n",
        "            w,x=min(i,q),max(i,q)\n",
        "            if(linkage==\"complete\"):\n",
        "                t=max(d[u,v],d[w,x])\n",
        "            elif(linkage==\"average\"):\n",
        "                t=(d[u,v]+d[w,x])/2\n",
        "            else:     \n",
        "                t=min(d[u,v],d[w,x])\n",
        "            \n",
        "            d[u,v]=t\n",
        "            d[w,x]=t\n",
        "        m_pq=max(p,q)\n",
        "        d[m_pq,:]=np.inf\n",
        "        d[:,m_pq]=np.inf\n",
        "        return d\n",
        "\n",
        "\n",
        "    def update_cluster(self,c,p,q):\n",
        "    \n",
        "        i=c.pop(max(p,q))\n",
        "        m=min(p,q)\n",
        "        c[m]=c[m].union(i) \n",
        "        return c\n",
        "\n",
        "\n",
        "def distance(pt1,pt2):\n",
        "    \n",
        "    if(len(pt1)!=len(pt2)):\n",
        "        print(\"Error distance(): The dimensions of two points are not equal\")\n",
        "        return  \n",
        "    dim=len(pt1)\n",
        "    s=0\n",
        "    for i in range(dim):\n",
        "        s+=(pt1[i]-pt2[i])**2\n",
        "    dist=np.sqrt(s)  \n",
        "    return dist"
      ]
    },
    {
      "cell_type": "code",
      "execution_count": 24,
      "id": "f4b642dc",
      "metadata": {
        "id": "f4b642dc"
      },
      "outputs": [],
      "source": [
        "df = pd.read_csv(\"2c.csv\")\n",
        "df['g'].replace(['M', 'W'], [1,0], inplace=True)\n",
        "labels = df['g'].values\n",
        "df = df.iloc[:,:-1]\n",
        "data = df.values\n",
        "\n",
        "def dataset_minmax(dataset):\n",
        "\tminmax = list()\n",
        "\tfor i in range(len(dataset[0])):\n",
        "\t\tcol_values = [row[i] for row in dataset]\n",
        "\t\tvalue_min = min(col_values)\n",
        "\t\tvalue_max = max(col_values)\n",
        "\t\tminmax.append([value_min, value_max])\n",
        "\treturn minmax\n",
        "\n",
        "def normalize_dataset(dataset, minmax):\n",
        "\tfor row in dataset:\n",
        "\t\tfor i in range(len(row)):\n",
        "\t\t\trow[i] = (row[i] - minmax[i][0]) / (minmax[i][1] - minmax[i][0])\n",
        "\n",
        "minmax = dataset_minmax(data)\n",
        "normalize_dataset(data, minmax)"
      ]
    },
    {
      "cell_type": "code",
      "execution_count": 25,
      "id": "oAtOG-q2_l3n",
      "metadata": {
        "id": "oAtOG-q2_l3n"
      },
      "outputs": [],
      "source": [
        "n_c = [2,4,6,8]"
      ]
    },
    {
      "attachments": {},
      "cell_type": "markdown",
      "id": "Ibu-4Ax4cYeg",
      "metadata": {
        "id": "Ibu-4Ax4cYeg"
      },
      "source": [
        "# Single Linkage"
      ]
    },
    {
      "cell_type": "code",
      "execution_count": 26,
      "id": "0EquCt1gppFC",
      "metadata": {
        "colab": {
          "base_uri": "https://localhost:8080/"
        },
        "id": "0EquCt1gppFC",
        "outputId": "c7ce5dd1-a2bb-4ffe-b704-9f64e716748b"
      },
      "outputs": [
        {
          "name": "stdout",
          "output_type": "stream",
          "text": [
            "Single Linkage\n",
            "Clusters = 2, Accuracy = 53.3333\n",
            "Clusters = 4, Accuracy = 54.1667\n",
            "Clusters = 6, Accuracy = 54.1667\n",
            "Clusters = 8, Accuracy = 55.0000\n"
          ]
        }
      ],
      "source": [
        "print(\"Single Linkage\")\n",
        "for j in n_c:\n",
        "    clustering = HierarchicalClustering(n_clusters=j,linkage=\"single\")\n",
        "    cls_pred = clustering.fit_predict(data)\n",
        "    \n",
        "    wt_acc = []\n",
        "    for i in np.unique(cls_pred):\n",
        "        indices = np.where(cls_pred == i)\n",
        "        arr = [labels[i] for i in indices]\n",
        "        max(np.unique(arr, return_counts=True)[1])\n",
        "        accuracy_cluster = max(np.unique(arr, return_counts=True)[1])/len(arr[0])\n",
        "        wt_cl_acc = (accuracy_cluster*len(arr[0]))/(len(cls_pred))\n",
        "        wt_acc.append(wt_cl_acc)\n",
        "    print(f\"Clusters = {j}, Accuracy = {sum(wt_acc)*100  :.4f}\")"
      ]
    },
    {
      "attachments": {},
      "cell_type": "markdown",
      "id": "rsd4htGLr8ll",
      "metadata": {
        "id": "rsd4htGLr8ll"
      },
      "source": [
        "# Complete Linkage"
      ]
    },
    {
      "cell_type": "code",
      "execution_count": 27,
      "id": "dCC1UIL8r7pq",
      "metadata": {
        "colab": {
          "base_uri": "https://localhost:8080/"
        },
        "id": "dCC1UIL8r7pq",
        "outputId": "e655ac80-3709-453b-f08a-d97f3505efe5"
      },
      "outputs": [
        {
          "name": "stdout",
          "output_type": "stream",
          "text": [
            "Complete Linkage\n",
            "Clusters = 2, Accuracy = 62.5000\n",
            "Clusters = 4, Accuracy = 62.5000\n",
            "Clusters = 6, Accuracy = 70.0000\n",
            "Clusters = 8, Accuracy = 70.8333\n"
          ]
        }
      ],
      "source": [
        "print(\"Complete Linkage\")\n",
        "for j in n_c:\n",
        "    clustering = HierarchicalClustering(n_clusters=j,linkage=\"complete\")\n",
        "    cls_pred = clustering.fit_predict(data)\n",
        "    \n",
        "    wt_acc = []\n",
        "    for i in np.unique(cls_pred):\n",
        "        indices = np.where(cls_pred == i)\n",
        "        arr = [labels[i] for i in indices]\n",
        "        max(np.unique(arr, return_counts=True)[1])\n",
        "        accuracy_cluster = max(np.unique(arr, return_counts=True)[1])/len(arr[0])\n",
        "        wt_cl_acc = (accuracy_cluster*len(arr[0]))/(len(cls_pred))\n",
        "        wt_acc.append(wt_cl_acc)\n",
        "    print(f\"Clusters = {j}, Accuracy = {sum(wt_acc)*100  :.4f}\")"
      ]
    },
    {
      "attachments": {},
      "cell_type": "markdown",
      "id": "aaa7c050",
      "metadata": {},
      "source": [
        "# Average Linkage"
      ]
    },
    {
      "cell_type": "code",
      "execution_count": 28,
      "id": "0a750665",
      "metadata": {},
      "outputs": [
        {
          "name": "stdout",
          "output_type": "stream",
          "text": [
            "Average Linkage\n",
            "Clusters = 2, Accuracy = 59.1667\n",
            "Clusters = 4, Accuracy = 62.5000\n",
            "Clusters = 6, Accuracy = 62.5000\n",
            "Clusters = 8, Accuracy = 67.5000\n"
          ]
        }
      ],
      "source": [
        "print(\"Average Linkage\")\n",
        "for j in n_c:\n",
        "    clustering = HierarchicalClustering(n_clusters=j,linkage=\"average\")\n",
        "    cls_pred = clustering.fit_predict(data)\n",
        "    \n",
        "    wt_acc = []\n",
        "    for i in np.unique(cls_pred):\n",
        "        indices = np.where(cls_pred == i)\n",
        "        arr = [labels[i] for i in indices]\n",
        "        max(np.unique(arr, return_counts=True)[1])\n",
        "        accuracy_cluster = max(np.unique(arr, return_counts=True)[1])/len(arr[0])\n",
        "        wt_cl_acc = (accuracy_cluster*len(arr[0]))/(len(cls_pred))\n",
        "        wt_acc.append(wt_cl_acc)\n",
        "    print(f\"Clusters = {j}, Accuracy = {sum(wt_acc)*100 :.4f}\")"
      ]
    }
  ],
  "metadata": {
    "colab": {
      "collapsed_sections": [],
      "name": "P3_HC_8341.ipynb",
      "provenance": []
    },
    "kernelspec": {
      "display_name": "Python 3",
      "language": "python",
      "name": "python3"
    },
    "language_info": {
      "codemirror_mode": {
        "name": "ipython",
        "version": 3
      },
      "file_extension": ".py",
      "mimetype": "text/x-python",
      "name": "python",
      "nbconvert_exporter": "python",
      "pygments_lexer": "ipython3",
      "version": "3.9.9"
    },
    "vscode": {
      "interpreter": {
        "hash": "6e692de43357d6e986329523fab310ff3d22003e71019b3bb2df97ba14573b0c"
      }
    }
  },
  "nbformat": 4,
  "nbformat_minor": 5
}
